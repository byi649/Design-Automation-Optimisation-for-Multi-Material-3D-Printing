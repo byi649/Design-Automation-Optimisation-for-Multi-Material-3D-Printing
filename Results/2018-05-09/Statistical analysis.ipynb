{
 "cells": [
  {
   "cell_type": "code",
   "execution_count": 1,
   "metadata": {},
   "outputs": [],
   "source": [
    "import seaborn as sns\n",
    "import pandas as pd\n",
    "import matplotlib.pyplot as plt\n",
    "import numpy as np\n",
    "\n",
    "%matplotlib inline"
   ]
  },
  {
   "cell_type": "markdown",
   "metadata": {},
   "source": [
    "### Data input and cleaning"
   ]
  },
  {
   "cell_type": "code",
   "execution_count": 2,
   "metadata": {},
   "outputs": [
    {
     "data": {
      "text/html": [
       "<div>\n",
       "<style scoped>\n",
       "    .dataframe tbody tr th:only-of-type {\n",
       "        vertical-align: middle;\n",
       "    }\n",
       "\n",
       "    .dataframe tbody tr th {\n",
       "        vertical-align: top;\n",
       "    }\n",
       "\n",
       "    .dataframe thead th {\n",
       "        text-align: right;\n",
       "    }\n",
       "</style>\n",
       "<table border=\"1\" class=\"dataframe\">\n",
       "  <thead>\n",
       "    <tr style=\"text-align: right;\">\n",
       "      <th></th>\n",
       "      <th>error</th>\n",
       "      <th>finished</th>\n",
       "      <th>time_minutes</th>\n",
       "      <th>1</th>\n",
       "      <th>2</th>\n",
       "      <th>3</th>\n",
       "      <th>4</th>\n",
       "      <th>5</th>\n",
       "      <th>6</th>\n",
       "    </tr>\n",
       "  </thead>\n",
       "  <tbody>\n",
       "    <tr>\n",
       "      <th>0</th>\n",
       "      <td>151.489646</td>\n",
       "      <td>False</td>\n",
       "      <td>18.476134</td>\n",
       "      <td>47.466112</td>\n",
       "      <td>319.547932</td>\n",
       "      <td>441.664889</td>\n",
       "      <td>462.457984</td>\n",
       "      <td>928.301000</td>\n",
       "      <td>1498.429547</td>\n",
       "    </tr>\n",
       "    <tr>\n",
       "      <th>1</th>\n",
       "      <td>151.489646</td>\n",
       "      <td>False</td>\n",
       "      <td>18.672214</td>\n",
       "      <td>47.466112</td>\n",
       "      <td>319.547932</td>\n",
       "      <td>441.664889</td>\n",
       "      <td>462.457984</td>\n",
       "      <td>928.301000</td>\n",
       "      <td>1498.429547</td>\n",
       "    </tr>\n",
       "    <tr>\n",
       "      <th>2</th>\n",
       "      <td>154.288300</td>\n",
       "      <td>False</td>\n",
       "      <td>19.941055</td>\n",
       "      <td>46.715313</td>\n",
       "      <td>323.448504</td>\n",
       "      <td>435.818314</td>\n",
       "      <td>470.401652</td>\n",
       "      <td>1006.671434</td>\n",
       "      <td>1453.150348</td>\n",
       "    </tr>\n",
       "    <tr>\n",
       "      <th>3</th>\n",
       "      <td>151.489646</td>\n",
       "      <td>False</td>\n",
       "      <td>18.844634</td>\n",
       "      <td>47.466112</td>\n",
       "      <td>319.547932</td>\n",
       "      <td>441.664889</td>\n",
       "      <td>462.457984</td>\n",
       "      <td>928.301000</td>\n",
       "      <td>1498.429547</td>\n",
       "    </tr>\n",
       "    <tr>\n",
       "      <th>4</th>\n",
       "      <td>151.489646</td>\n",
       "      <td>False</td>\n",
       "      <td>22.386694</td>\n",
       "      <td>47.466112</td>\n",
       "      <td>319.547932</td>\n",
       "      <td>441.664889</td>\n",
       "      <td>462.457984</td>\n",
       "      <td>928.301000</td>\n",
       "      <td>1498.429547</td>\n",
       "    </tr>\n",
       "  </tbody>\n",
       "</table>\n",
       "</div>"
      ],
      "text/plain": [
       "        error  finished  time_minutes          1           2           3  \\\n",
       "0  151.489646     False     18.476134  47.466112  319.547932  441.664889   \n",
       "1  151.489646     False     18.672214  47.466112  319.547932  441.664889   \n",
       "2  154.288300     False     19.941055  46.715313  323.448504  435.818314   \n",
       "3  151.489646     False     18.844634  47.466112  319.547932  441.664889   \n",
       "4  151.489646     False     22.386694  47.466112  319.547932  441.664889   \n",
       "\n",
       "            4            5            6  \n",
       "0  462.457984   928.301000  1498.429547  \n",
       "1  462.457984   928.301000  1498.429547  \n",
       "2  470.401652  1006.671434  1453.150348  \n",
       "3  462.457984   928.301000  1498.429547  \n",
       "4  462.457984   928.301000  1498.429547  "
      ]
     },
     "execution_count": 2,
     "metadata": {},
     "output_type": "execute_result"
    }
   ],
   "source": [
    "sns.set()\n",
    "data = pd.read_csv(\"data.csv\", dtype={'time':np.float64})\n",
    "\n",
    "data['error'] = [float(x[1:-1]) for x in data['fbest']]\n",
    "data['finished'] = data['error'] <= 1\n",
    "data['time_minutes'] = data['time'] / 60\n",
    "\n",
    "data = data.join(data['freq'].str.split(', ', expand=True).apply(pd.to_numeric))\n",
    "\n",
    "data.drop([\"fbest\", \"freq\", \"sol\", \"time\", \"Unnamed: 0\", \"first\"], axis=1, inplace=True)\n",
    "    \n",
    "data.rename(columns=lambda x: x+1 if type(x)==int else x, inplace=True)\n",
    "data.head()"
   ]
  },
  {
   "cell_type": "code",
   "execution_count": 3,
   "metadata": {},
   "outputs": [
    {
     "data": {
      "text/html": [
       "<div>\n",
       "<style scoped>\n",
       "    .dataframe tbody tr th:only-of-type {\n",
       "        vertical-align: middle;\n",
       "    }\n",
       "\n",
       "    .dataframe tbody tr th {\n",
       "        vertical-align: top;\n",
       "    }\n",
       "\n",
       "    .dataframe thead th {\n",
       "        text-align: right;\n",
       "    }\n",
       "</style>\n",
       "<table border=\"1\" class=\"dataframe\">\n",
       "  <thead>\n",
       "    <tr style=\"text-align: right;\">\n",
       "      <th></th>\n",
       "      <th>error</th>\n",
       "      <th>time_minutes</th>\n",
       "      <th>1</th>\n",
       "      <th>2</th>\n",
       "      <th>3</th>\n",
       "      <th>4</th>\n",
       "      <th>5</th>\n",
       "      <th>6</th>\n",
       "    </tr>\n",
       "  </thead>\n",
       "  <tbody>\n",
       "    <tr>\n",
       "      <th>count</th>\n",
       "      <td>50.000000</td>\n",
       "      <td>50.000000</td>\n",
       "      <td>50.000000</td>\n",
       "      <td>50.000000</td>\n",
       "      <td>50.000000</td>\n",
       "      <td>50.000000</td>\n",
       "      <td>50.000000</td>\n",
       "      <td>50.000000</td>\n",
       "    </tr>\n",
       "    <tr>\n",
       "      <th>mean</th>\n",
       "      <td>152.698003</td>\n",
       "      <td>20.168525</td>\n",
       "      <td>46.956790</td>\n",
       "      <td>322.025218</td>\n",
       "      <td>436.633930</td>\n",
       "      <td>462.255469</td>\n",
       "      <td>948.741328</td>\n",
       "      <td>1501.482737</td>\n",
       "    </tr>\n",
       "    <tr>\n",
       "      <th>std</th>\n",
       "      <td>1.313677</td>\n",
       "      <td>1.599307</td>\n",
       "      <td>1.814566</td>\n",
       "      <td>3.721273</td>\n",
       "      <td>16.252599</td>\n",
       "      <td>17.625514</td>\n",
       "      <td>23.314455</td>\n",
       "      <td>47.502774</td>\n",
       "    </tr>\n",
       "    <tr>\n",
       "      <th>min</th>\n",
       "      <td>151.489646</td>\n",
       "      <td>16.788097</td>\n",
       "      <td>43.386577</td>\n",
       "      <td>317.477332</td>\n",
       "      <td>404.115963</td>\n",
       "      <td>434.224418</td>\n",
       "      <td>928.301000</td>\n",
       "      <td>1397.477920</td>\n",
       "    </tr>\n",
       "    <tr>\n",
       "      <th>25%</th>\n",
       "      <td>151.489646</td>\n",
       "      <td>18.887891</td>\n",
       "      <td>46.348302</td>\n",
       "      <td>319.547932</td>\n",
       "      <td>431.297944</td>\n",
       "      <td>449.884576</td>\n",
       "      <td>928.301000</td>\n",
       "      <td>1491.288331</td>\n",
       "    </tr>\n",
       "    <tr>\n",
       "      <th>50%</th>\n",
       "      <td>152.415508</td>\n",
       "      <td>20.134483</td>\n",
       "      <td>47.466112</td>\n",
       "      <td>320.822614</td>\n",
       "      <td>441.664889</td>\n",
       "      <td>462.457984</td>\n",
       "      <td>939.979119</td>\n",
       "      <td>1498.429547</td>\n",
       "    </tr>\n",
       "    <tr>\n",
       "      <th>75%</th>\n",
       "      <td>153.472265</td>\n",
       "      <td>21.298440</td>\n",
       "      <td>47.466112</td>\n",
       "      <td>322.456556</td>\n",
       "      <td>441.664889</td>\n",
       "      <td>469.044424</td>\n",
       "      <td>965.949754</td>\n",
       "      <td>1533.724337</td>\n",
       "    </tr>\n",
       "    <tr>\n",
       "      <th>max</th>\n",
       "      <td>157.034509</td>\n",
       "      <td>23.850700</td>\n",
       "      <td>50.331401</td>\n",
       "      <td>333.366318</td>\n",
       "      <td>466.013473</td>\n",
       "      <td>505.213796</td>\n",
       "      <td>1006.671434</td>\n",
       "      <td>1581.343924</td>\n",
       "    </tr>\n",
       "  </tbody>\n",
       "</table>\n",
       "</div>"
      ],
      "text/plain": [
       "            error  time_minutes          1           2           3  \\\n",
       "count   50.000000     50.000000  50.000000   50.000000   50.000000   \n",
       "mean   152.698003     20.168525  46.956790  322.025218  436.633930   \n",
       "std      1.313677      1.599307   1.814566    3.721273   16.252599   \n",
       "min    151.489646     16.788097  43.386577  317.477332  404.115963   \n",
       "25%    151.489646     18.887891  46.348302  319.547932  431.297944   \n",
       "50%    152.415508     20.134483  47.466112  320.822614  441.664889   \n",
       "75%    153.472265     21.298440  47.466112  322.456556  441.664889   \n",
       "max    157.034509     23.850700  50.331401  333.366318  466.013473   \n",
       "\n",
       "                4            5            6  \n",
       "count   50.000000    50.000000    50.000000  \n",
       "mean   462.255469   948.741328  1501.482737  \n",
       "std     17.625514    23.314455    47.502774  \n",
       "min    434.224418   928.301000  1397.477920  \n",
       "25%    449.884576   928.301000  1491.288331  \n",
       "50%    462.457984   939.979119  1498.429547  \n",
       "75%    469.044424   965.949754  1533.724337  \n",
       "max    505.213796  1006.671434  1581.343924  "
      ]
     },
     "execution_count": 3,
     "metadata": {},
     "output_type": "execute_result"
    }
   ],
   "source": [
    "data.describe()"
   ]
  },
  {
   "cell_type": "markdown",
   "metadata": {},
   "source": [
    "### Natural frequencies"
   ]
  },
  {
   "cell_type": "code",
   "execution_count": 4,
   "metadata": {},
   "outputs": [
    {
     "data": {
      "image/png": "[encoded data removed]",
      "text/plain": [
       "<Figure size 432x288 with 1 Axes>"
      ]
     },
     "metadata": {},
     "output_type": "display_data"
    }
   ],
   "source": [
    "freq = data.drop(['error', 'finished', 'time_minutes'], axis=1)\n",
    "freq.boxplot()\n",
    "plt.title(\"Natural frequencies\")\n",
    "plt.xlabel(\"Mode\")\n",
    "plt.ylabel(\"Frequency (Hz)\")\n",
    "plt.show()"
   ]
  },
  {
   "cell_type": "markdown",
   "metadata": {},
   "source": [
    "### Solution times and final errors"
   ]
  },
  {
   "cell_type": "code",
   "execution_count": 5,
   "metadata": {},
   "outputs": [
    {
     "name": "stderr",
     "output_type": "stream",
     "text": [
      "/home/byi649/.local/lib/python3.5/site-packages/matplotlib/axes/_axes.py:6462: UserWarning: The 'normed' kwarg is deprecated, and has been replaced by the 'density' kwarg.\n",
      "  warnings.warn(\"The 'normed' kwarg is deprecated, and has been \"\n"
     ]
    },
    {
     "data": {
      "image/png": "[encoded data removed]",
      "text/plain": [
       "<Figure size 432x288 with 1 Axes>"
      ]
     },
     "metadata": {},
     "output_type": "display_data"
    },
    {
     "data": {
      "image/png": "[encoded data removed]",
      "text/plain": [
       "<Figure size 432x288 with 1 Axes>"
      ]
     },
     "metadata": {},
     "output_type": "display_data"
    }
   ],
   "source": [
    "ax = sns.distplot(data['error'], bins=15, kde=False, norm_hist=False)\n",
    "ax.set(xlabel=\"Error (%)\", ylabel=\"Number of occurences\", title=\"Final error for 50 iterations of GA\")\n",
    "plt.show()\n",
    "\n",
    "ax = sns.distplot(data['time_minutes'], bins=15, kde=False, norm_hist=False)\n",
    "ax.set(xlabel=\"Time (minutes)\", ylabel=\"Number of occurences\", title=\"Time taken each for 50 iterations of GA\")\n",
    "plt.show()"
   ]
  },
  {
   "cell_type": "markdown",
   "metadata": {},
   "source": [
    "### Grouping by finish time"
   ]
  },
  {
   "cell_type": "code",
   "execution_count": 6,
   "metadata": {},
   "outputs": [
    {
     "name": "stdout",
     "output_type": "stream",
     "text": [
      "False    50\n"
     ]
    }
   ],
   "source": [
    "print(data['finished'].value_counts().to_string())"
   ]
  },
  {
   "cell_type": "code",
   "execution_count": 7,
   "metadata": {},
   "outputs": [
    {
     "name": "stderr",
     "output_type": "stream",
     "text": [
      "/home/byi649/.local/lib/python3.5/site-packages/seaborn/distributions.py:195: RuntimeWarning: Mean of empty slice.\n",
      "  line, = ax.plot(a.mean(), 0)\n",
      "/home/byi649/.local/lib/python3.5/site-packages/numpy/core/_methods.py:80: RuntimeWarning: invalid value encountered in double_scalars\n",
      "  ret = ret.dtype.type(ret / rcount)\n",
      "/home/byi649/.local/lib/python3.5/site-packages/matplotlib/axes/_axes.py:6462: UserWarning: The 'normed' kwarg is deprecated, and has been replaced by the 'density' kwarg.\n",
      "  warnings.warn(\"The 'normed' kwarg is deprecated, and has been \"\n"
     ]
    },
    {
     "data": {
      "image/png": "[encoded data removed]",
      "text/plain": [
       "<Figure size 432x288 with 1 Axes>"
      ]
     },
     "metadata": {},
     "output_type": "display_data"
    }
   ],
   "source": [
    "ax = sns.distplot(data['time_minutes'].loc[data['finished']], bins=15, kde=False, norm_hist=False, label=\"Reached 1% error\")\n",
    "sns.distplot(data['time_minutes'].loc[-data['finished']], bins=15, kde=False, norm_hist=False, label=\"Did not reach 1% error\")\n",
    "ax.set(xlabel=\"Time taken (minutes)\", ylabel=\"Number of occurences\", title=\"Evolution times for 50 iterations of GA\")\n",
    "plt.legend()\n",
    "plt.show()"
   ]
  },
  {
   "cell_type": "code",
   "execution_count": null,
   "metadata": {},
   "outputs": [],
   "source": []
  }
 ],
 "metadata": {
  "kernelspec": {
   "display_name": "Python 3",
   "language": "python",
   "name": "python3"
  },
  "language_info": {
   "codemirror_mode": {
    "name": "ipython",
    "version": 3
   },
   "file_extension": ".py",
   "mimetype": "text/x-python",
   "name": "python",
   "nbconvert_exporter": "python",
   "pygments_lexer": "ipython3",
   "version": "3.5.2"
  }
 },
 "nbformat": 4,
 "nbformat_minor": 2
}
