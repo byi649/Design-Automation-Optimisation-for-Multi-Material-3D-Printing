{
 "cells": [
  {
   "cell_type": "code",
   "execution_count": 99,
   "metadata": {},
   "outputs": [],
   "source": [
    "import seaborn as sns\n",
    "import pandas as pd\n",
    "import matplotlib.pyplot as plt\n",
    "import numpy as np\n",
    "\n",
    "%matplotlib inline"
   ]
  },
  {
   "cell_type": "markdown",
   "metadata": {},
   "source": [
    "### Data input and cleaning"
   ]
  },
  {
   "cell_type": "code",
   "execution_count": 100,
   "metadata": {},
   "outputs": [
    {
     "data": {
      "text/html": [
       "<div>\n",
       "<style scoped>\n",
       "    .dataframe tbody tr th:only-of-type {\n",
       "        vertical-align: middle;\n",
       "    }\n",
       "\n",
       "    .dataframe tbody tr th {\n",
       "        vertical-align: top;\n",
       "    }\n",
       "\n",
       "    .dataframe thead th {\n",
       "        text-align: right;\n",
       "    }\n",
       "</style>\n",
       "<table border=\"1\" class=\"dataframe\">\n",
       "  <thead>\n",
       "    <tr style=\"text-align: right;\">\n",
       "      <th></th>\n",
       "      <th>nPop</th>\n",
       "      <th>error</th>\n",
       "      <th>time_minutes</th>\n",
       "      <th>1</th>\n",
       "      <th>2</th>\n",
       "      <th>3</th>\n",
       "      <th>4</th>\n",
       "      <th>5</th>\n",
       "      <th>6</th>\n",
       "    </tr>\n",
       "  </thead>\n",
       "  <tbody>\n",
       "    <tr>\n",
       "      <th>0</th>\n",
       "      <td>40</td>\n",
       "      <td>14.980791</td>\n",
       "      <td>61.647140</td>\n",
       "      <td>146.033901</td>\n",
       "      <td>793.231973</td>\n",
       "      <td>1240.210643</td>\n",
       "      <td>1382.728491</td>\n",
       "      <td>2113.862258</td>\n",
       "      <td>3234.591546</td>\n",
       "    </tr>\n",
       "    <tr>\n",
       "      <th>1</th>\n",
       "      <td>40</td>\n",
       "      <td>16.570683</td>\n",
       "      <td>61.782080</td>\n",
       "      <td>138.877394</td>\n",
       "      <td>801.412701</td>\n",
       "      <td>1205.617236</td>\n",
       "      <td>1278.167789</td>\n",
       "      <td>2230.281552</td>\n",
       "      <td>3343.685514</td>\n",
       "    </tr>\n",
       "    <tr>\n",
       "      <th>2</th>\n",
       "      <td>40</td>\n",
       "      <td>15.688471</td>\n",
       "      <td>61.725517</td>\n",
       "      <td>146.971149</td>\n",
       "      <td>806.877263</td>\n",
       "      <td>1239.716075</td>\n",
       "      <td>1359.696550</td>\n",
       "      <td>2162.687297</td>\n",
       "      <td>3407.135999</td>\n",
       "    </tr>\n",
       "    <tr>\n",
       "      <th>3</th>\n",
       "      <td>40</td>\n",
       "      <td>16.454564</td>\n",
       "      <td>61.909778</td>\n",
       "      <td>135.660989</td>\n",
       "      <td>802.572158</td>\n",
       "      <td>1169.261336</td>\n",
       "      <td>1330.903938</td>\n",
       "      <td>2176.987146</td>\n",
       "      <td>3200.975874</td>\n",
       "    </tr>\n",
       "    <tr>\n",
       "      <th>12</th>\n",
       "      <td>40</td>\n",
       "      <td>15.209553</td>\n",
       "      <td>61.509817</td>\n",
       "      <td>141.697113</td>\n",
       "      <td>803.508354</td>\n",
       "      <td>1206.014369</td>\n",
       "      <td>1362.829475</td>\n",
       "      <td>2185.412385</td>\n",
       "      <td>3199.775596</td>\n",
       "    </tr>\n",
       "  </tbody>\n",
       "</table>\n",
       "</div>"
      ],
      "text/plain": [
       "    nPop      error  time_minutes           1           2            3  \\\n",
       "0     40  14.980791     61.647140  146.033901  793.231973  1240.210643   \n",
       "1     40  16.570683     61.782080  138.877394  801.412701  1205.617236   \n",
       "2     40  15.688471     61.725517  146.971149  806.877263  1239.716075   \n",
       "3     40  16.454564     61.909778  135.660989  802.572158  1169.261336   \n",
       "12    40  15.209553     61.509817  141.697113  803.508354  1206.014369   \n",
       "\n",
       "              4            5            6  \n",
       "0   1382.728491  2113.862258  3234.591546  \n",
       "1   1278.167789  2230.281552  3343.685514  \n",
       "2   1359.696550  2162.687297  3407.135999  \n",
       "3   1330.903938  2176.987146  3200.975874  \n",
       "12  1362.829475  2185.412385  3199.775596  "
      ]
     },
     "execution_count": 100,
     "metadata": {},
     "output_type": "execute_result"
    }
   ],
   "source": [
    "sns.set()\n",
    "data = pd.read_csv(\"40VoxelResults.csv\", dtype={'time':np.float64})\n",
    "\n",
    "data['error'] = [float(x[1:-1]) for x in data['fbest']]\n",
    "data['finished'] = data['error'] <= 1\n",
    "data['time_minutes'] = data['time'] / 60\n",
    "\n",
    "data = data.join(data['freq'].str.split(', ', expand=True).apply(pd.to_numeric))\n",
    "\n",
    "data.drop([\"fbest\", \"freq\", \"sol\", \"time\", \"Unnamed: 0\", \"f1\", \"grad\", \"finished\"], axis=1, inplace=True)\n",
    "    \n",
    "data.rename(columns=lambda x: x+1 if type(x)==int else x, inplace=True)\n",
    "\n",
    "data = data.loc[data['errorLimit'] == 15]\n",
    "data = data.loc[data['nPop'] == 40]\n",
    "data.drop(['errorLimit'], axis=1, inplace=True)\n",
    "\n",
    "data800 = pd.read_csv(\"data.csv\", dtype={'time':np.float64})\n",
    "\n",
    "data800['error'] = [float(x[1:-1]) for x in data800['fbest']]\n",
    "data800['finished'] = data800['error'] <= 1\n",
    "data800['time_minutes'] = data800['time'] / 60\n",
    "\n",
    "data800 = data800.join(data800['freq'].str.split(', ', expand=True).apply(pd.to_numeric))\n",
    "\n",
    "data800.drop([\"fbest\", \"freq\", \"sol\", \"time\", \"Unnamed: 0\", \"f1\", \"grad\", \"finished\"], axis=1, inplace=True)\n",
    "    \n",
    "data800.rename(columns=lambda x: x+1 if type(x)==int else x, inplace=True)\n",
    "\n",
    "data800 = data800.loc[data800['nPop'] == 40]\n",
    "data800.drop(['errorLimit'], axis=1, inplace=True)\n",
    "\n",
    "data800.head()"
   ]
  },
  {
   "cell_type": "markdown",
   "metadata": {},
   "source": [
    "### Natural frequencies"
   ]
  },
  {
   "cell_type": "code",
   "execution_count": 110,
   "metadata": {},
   "outputs": [
    {
     "data": {
      "image/png": "[encoded data removed]",
      "text/plain": [
       "<Figure size 432x288 with 1 Axes>"
      ]
     },
     "metadata": {},
     "output_type": "display_data"
    },
    {
     "data": {
      "image/png": "[encoded data removed]",
      "text/plain": [
       "<Figure size 432x288 with 1 Axes>"
      ]
     },
     "metadata": {},
     "output_type": "display_data"
    }
   ],
   "source": [
    "freq = data.drop(['error', 'time_minutes', 'nPop'], axis=1)\n",
    "freq.boxplot()\n",
    "plt.title(\"Natural frequencies (40 voxel)\")\n",
    "plt.xlabel(\"Mode\")\n",
    "plt.ylabel(\"Frequency (Hz)\")\n",
    "plt.ylim([0, 3500])\n",
    "plt.show()\n",
    "\n",
    "freq = data800.drop(['error', 'time_minutes', 'nPop'], axis=1)\n",
    "freq.boxplot()\n",
    "plt.title(\"Natural frequencies (800 voxel)\")\n",
    "plt.xlabel(\"Mode\")\n",
    "plt.ylabel(\"Frequency (Hz)\")\n",
    "plt.ylim([0, 3500])\n",
    "plt.show()"
   ]
  },
  {
   "cell_type": "code",
   "execution_count": 102,
   "metadata": {},
   "outputs": [],
   "source": [
    "dataT = data.drop(['nPop', 'time_minutes', 'error'], axis=1)\n",
    "dataT[\"vox\"] = 40\n",
    "\n",
    "dataT800 = data800.drop(['nPop', 'time_minutes', 'error'], axis=1)\n",
    "dataT800[\"vox\"] = 800\n",
    "\n",
    "df = pd.concat([dataT, dataT800], axis=0)\n",
    "df2 = pd.DataFrame()\n",
    "\n",
    "for i, row in df.iterrows():\n",
    "    for j in range(1, 7):\n",
    "        \n",
    "        df2 = df2.append(pd.Series([row[j], j, row[\"vox\"]]), ignore_index=True)\n",
    "\n",
    "df2.columns = [\"freq\", \"mode\", \"vox\"]\n",
    "df2[\"error\"] = (df2[\"freq\"] - (-400 + df2[\"mode\"]*600)) / (-400 + df2[\"mode\"]*600) * 100\n",
    "df2[\"abs_error\"] = abs(df2[\"error\"])     "
   ]
  },
  {
   "cell_type": "code",
   "execution_count": 148,
   "metadata": {},
   "outputs": [
    {
     "data": {
      "text/plain": [
       "[]"
      ]
     },
     "execution_count": 148,
     "metadata": {},
     "output_type": "execute_result"
    },
    {
     "data": {
      "image/png": "[encoded data removed]",
      "text/plain": [
       "<Figure size 1008x432 with 2 Axes>"
      ]
     },
     "metadata": {},
     "output_type": "display_data"
    }
   ],
   "source": [
    "fig, ax = plt.subplots(1,2)\n",
    "\n",
    "sns.barplot(x=\"mode\", y=\"error\", hue=\"vox\", data=df2, ax=ax[0])\n",
    "sns.barplot(x=\"mode\", y=\"abs_error\", hue=\"vox\", data=df2, ax=ax[1])\n",
    "\n",
    "ax[0].set_title(\"Error for each mode\")\n",
    "ax[1].set_title(\"Absolute error for each mode\")\n",
    "\n",
    "plt.rcParams[\"figure.figsize\"] = (14, 14)\n",
    "plt.plot()"
   ]
  }
 ],
 "metadata": {
  "kernelspec": {
   "display_name": "Python 3",
   "language": "python",
   "name": "python3"
  },
  "language_info": {
   "codemirror_mode": {
    "name": "ipython",
    "version": 3
   },
   "file_extension": ".py",
   "mimetype": "text/x-python",
   "name": "python",
   "nbconvert_exporter": "python",
   "pygments_lexer": "ipython3",
   "version": "3.5.2"
  }
 },
 "nbformat": 4,
 "nbformat_minor": 2
}
