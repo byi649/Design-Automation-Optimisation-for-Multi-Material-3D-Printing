{
 "cells": [
  {
   "cell_type": "code",
   "execution_count": 1,
   "metadata": {},
   "outputs": [],
   "source": [
    "import seaborn as sns\n",
    "import pandas as pd\n",
    "import matplotlib.pyplot as plt\n",
    "import numpy as np\n",
    "\n",
    "%matplotlib inline"
   ]
  },
  {
   "cell_type": "markdown",
   "metadata": {},
   "source": [
    "### Data input and cleaning"
   ]
  },
  {
   "cell_type": "code",
   "execution_count": 2,
   "metadata": {},
   "outputs": [
    {
     "data": {
      "text/html": [
       "<div>\n",
       "<style scoped>\n",
       "    .dataframe tbody tr th:only-of-type {\n",
       "        vertical-align: middle;\n",
       "    }\n",
       "\n",
       "    .dataframe tbody tr th {\n",
       "        vertical-align: top;\n",
       "    }\n",
       "\n",
       "    .dataframe thead th {\n",
       "        text-align: right;\n",
       "    }\n",
       "</style>\n",
       "<table border=\"1\" class=\"dataframe\">\n",
       "  <thead>\n",
       "    <tr style=\"text-align: right;\">\n",
       "      <th></th>\n",
       "      <th>intercept</th>\n",
       "      <th>slope</th>\n",
       "      <th>r-squared</th>\n",
       "      <th>1</th>\n",
       "      <th>2</th>\n",
       "      <th>3</th>\n",
       "      <th>4</th>\n",
       "      <th>5</th>\n",
       "      <th>6</th>\n",
       "    </tr>\n",
       "  </thead>\n",
       "  <tbody>\n",
       "    <tr>\n",
       "      <th>0</th>\n",
       "      <td>-262.018343</td>\n",
       "      <td>457.451038</td>\n",
       "      <td>0.982319</td>\n",
       "      <td>173.616962</td>\n",
       "      <td>644.166336</td>\n",
       "      <td>1231.914777</td>\n",
       "      <td>1553.600252</td>\n",
       "      <td>1832.816190</td>\n",
       "      <td>2598.247220</td>\n",
       "    </tr>\n",
       "    <tr>\n",
       "      <th>1</th>\n",
       "      <td>-305.029174</td>\n",
       "      <td>441.212931</td>\n",
       "      <td>0.999193</td>\n",
       "      <td>146.516177</td>\n",
       "      <td>549.445186</td>\n",
       "      <td>1054.483835</td>\n",
       "      <td>1441.660756</td>\n",
       "      <td>1889.880344</td>\n",
       "      <td>2353.310218</td>\n",
       "    </tr>\n",
       "    <tr>\n",
       "      <th>2</th>\n",
       "      <td>-333.527513</td>\n",
       "      <td>459.883734</td>\n",
       "      <td>0.993036</td>\n",
       "      <td>154.994494</td>\n",
       "      <td>527.668127</td>\n",
       "      <td>1095.327051</td>\n",
       "      <td>1536.437259</td>\n",
       "      <td>1848.517349</td>\n",
       "      <td>2493.449057</td>\n",
       "    </tr>\n",
       "    <tr>\n",
       "      <th>3</th>\n",
       "      <td>-261.134050</td>\n",
       "      <td>410.150633</td>\n",
       "      <td>0.998488</td>\n",
       "      <td>157.034441</td>\n",
       "      <td>525.667599</td>\n",
       "      <td>1014.455280</td>\n",
       "      <td>1349.979397</td>\n",
       "      <td>1807.094172</td>\n",
       "      <td>2192.128107</td>\n",
       "    </tr>\n",
       "    <tr>\n",
       "      <th>4</th>\n",
       "      <td>-333.749279</td>\n",
       "      <td>357.364763</td>\n",
       "      <td>0.986974</td>\n",
       "      <td>76.294288</td>\n",
       "      <td>413.895396</td>\n",
       "      <td>687.577353</td>\n",
       "      <td>966.974145</td>\n",
       "      <td>1467.794156</td>\n",
       "      <td>1889.629019</td>\n",
       "    </tr>\n",
       "  </tbody>\n",
       "</table>\n",
       "</div>"
      ],
      "text/plain": [
       "    intercept       slope  r-squared           1           2            3  \\\n",
       "0 -262.018343  457.451038   0.982319  173.616962  644.166336  1231.914777   \n",
       "1 -305.029174  441.212931   0.999193  146.516177  549.445186  1054.483835   \n",
       "2 -333.527513  459.883734   0.993036  154.994494  527.668127  1095.327051   \n",
       "3 -261.134050  410.150633   0.998488  157.034441  525.667599  1014.455280   \n",
       "4 -333.749279  357.364763   0.986974   76.294288  413.895396   687.577353   \n",
       "\n",
       "             4            5            6  \n",
       "0  1553.600252  1832.816190  2598.247220  \n",
       "1  1441.660756  1889.880344  2353.310218  \n",
       "2  1536.437259  1848.517349  2493.449057  \n",
       "3  1349.979397  1807.094172  2192.128107  \n",
       "4   966.974145  1467.794156  1889.629019  "
      ]
     },
     "execution_count": 2,
     "metadata": {},
     "output_type": "execute_result"
    }
   ],
   "source": [
    "sns.set()\n",
    "data = pd.read_csv(\"uniform.csv\")\n",
    "\n",
    "data['r-squared'] = [-float(x[1:-1]) for x in data['fbest']]\n",
    "\n",
    "data = data.join(data['freq'].str.split(', ', expand=True).apply(pd.to_numeric))\n",
    "\n",
    "data.drop([\"fbest\", \"freq\", \"sol\", \"Unnamed: 0\", \"r_value\"], axis=1, inplace=True)\n",
    "    \n",
    "data.rename(columns=lambda x: x+1 if type(x)==int else x, inplace=True)\n",
    "data.head()"
   ]
  },
  {
   "cell_type": "code",
   "execution_count": 3,
   "metadata": {},
   "outputs": [
    {
     "data": {
      "text/html": [
       "<div>\n",
       "<style scoped>\n",
       "    .dataframe tbody tr th:only-of-type {\n",
       "        vertical-align: middle;\n",
       "    }\n",
       "\n",
       "    .dataframe tbody tr th {\n",
       "        vertical-align: top;\n",
       "    }\n",
       "\n",
       "    .dataframe thead th {\n",
       "        text-align: right;\n",
       "    }\n",
       "</style>\n",
       "<table border=\"1\" class=\"dataframe\">\n",
       "  <thead>\n",
       "    <tr style=\"text-align: right;\">\n",
       "      <th></th>\n",
       "      <th>intercept</th>\n",
       "      <th>slope</th>\n",
       "      <th>r-squared</th>\n",
       "      <th>1</th>\n",
       "      <th>2</th>\n",
       "      <th>3</th>\n",
       "      <th>4</th>\n",
       "      <th>5</th>\n",
       "      <th>6</th>\n",
       "    </tr>\n",
       "  </thead>\n",
       "  <tbody>\n",
       "    <tr>\n",
       "      <th>count</th>\n",
       "      <td>15.000000</td>\n",
       "      <td>15.000000</td>\n",
       "      <td>15.000000</td>\n",
       "      <td>15.000000</td>\n",
       "      <td>15.000000</td>\n",
       "      <td>15.000000</td>\n",
       "      <td>15.000000</td>\n",
       "      <td>15.000000</td>\n",
       "      <td>15.000000</td>\n",
       "    </tr>\n",
       "    <tr>\n",
       "      <th>mean</th>\n",
       "      <td>-302.751439</td>\n",
       "      <td>420.990146</td>\n",
       "      <td>0.984145</td>\n",
       "      <td>137.683631</td>\n",
       "      <td>564.930773</td>\n",
       "      <td>997.976688</td>\n",
       "      <td>1249.922545</td>\n",
       "      <td>1751.467114</td>\n",
       "      <td>2322.303674</td>\n",
       "    </tr>\n",
       "    <tr>\n",
       "      <th>std</th>\n",
       "      <td>42.244807</td>\n",
       "      <td>43.998989</td>\n",
       "      <td>0.008348</td>\n",
       "      <td>29.176756</td>\n",
       "      <td>83.256862</td>\n",
       "      <td>169.773520</td>\n",
       "      <td>206.914330</td>\n",
       "      <td>165.615127</td>\n",
       "      <td>274.599882</td>\n",
       "    </tr>\n",
       "    <tr>\n",
       "      <th>min</th>\n",
       "      <td>-406.539168</td>\n",
       "      <td>333.668252</td>\n",
       "      <td>0.972804</td>\n",
       "      <td>76.294288</td>\n",
       "      <td>413.895396</td>\n",
       "      <td>687.577353</td>\n",
       "      <td>904.595871</td>\n",
       "      <td>1394.388056</td>\n",
       "      <td>1790.045298</td>\n",
       "    </tr>\n",
       "    <tr>\n",
       "      <th>25%</th>\n",
       "      <td>-327.122608</td>\n",
       "      <td>389.556924</td>\n",
       "      <td>0.977242</td>\n",
       "      <td>124.858810</td>\n",
       "      <td>526.667863</td>\n",
       "      <td>883.129158</td>\n",
       "      <td>1073.517735</td>\n",
       "      <td>1677.877799</td>\n",
       "      <td>2121.311303</td>\n",
       "    </tr>\n",
       "    <tr>\n",
       "      <th>50%</th>\n",
       "      <td>-298.850085</td>\n",
       "      <td>439.340489</td>\n",
       "      <td>0.984166</td>\n",
       "      <td>150.431094</td>\n",
       "      <td>556.612417</td>\n",
       "      <td>1054.483835</td>\n",
       "      <td>1298.877230</td>\n",
       "      <td>1809.304025</td>\n",
       "      <td>2380.637170</td>\n",
       "    </tr>\n",
       "    <tr>\n",
       "      <th>75%</th>\n",
       "      <td>-267.602524</td>\n",
       "      <td>448.433406</td>\n",
       "      <td>0.987728</td>\n",
       "      <td>156.014467</td>\n",
       "      <td>632.446631</td>\n",
       "      <td>1086.114833</td>\n",
       "      <td>1392.858449</td>\n",
       "      <td>1842.387869</td>\n",
       "      <td>2493.742864</td>\n",
       "    </tr>\n",
       "    <tr>\n",
       "      <th>max</th>\n",
       "      <td>-244.001280</td>\n",
       "      <td>480.626542</td>\n",
       "      <td>0.999193</td>\n",
       "      <td>173.616962</td>\n",
       "      <td>701.247046</td>\n",
       "      <td>1256.491132</td>\n",
       "      <td>1553.600252</td>\n",
       "      <td>1930.609814</td>\n",
       "      <td>2749.514845</td>\n",
       "    </tr>\n",
       "  </tbody>\n",
       "</table>\n",
       "</div>"
      ],
      "text/plain": [
       "        intercept       slope  r-squared           1           2            3  \\\n",
       "count   15.000000   15.000000  15.000000   15.000000   15.000000    15.000000   \n",
       "mean  -302.751439  420.990146   0.984145  137.683631  564.930773   997.976688   \n",
       "std     42.244807   43.998989   0.008348   29.176756   83.256862   169.773520   \n",
       "min   -406.539168  333.668252   0.972804   76.294288  413.895396   687.577353   \n",
       "25%   -327.122608  389.556924   0.977242  124.858810  526.667863   883.129158   \n",
       "50%   -298.850085  439.340489   0.984166  150.431094  556.612417  1054.483835   \n",
       "75%   -267.602524  448.433406   0.987728  156.014467  632.446631  1086.114833   \n",
       "max   -244.001280  480.626542   0.999193  173.616962  701.247046  1256.491132   \n",
       "\n",
       "                 4            5            6  \n",
       "count    15.000000    15.000000    15.000000  \n",
       "mean   1249.922545  1751.467114  2322.303674  \n",
       "std     206.914330   165.615127   274.599882  \n",
       "min     904.595871  1394.388056  1790.045298  \n",
       "25%    1073.517735  1677.877799  2121.311303  \n",
       "50%    1298.877230  1809.304025  2380.637170  \n",
       "75%    1392.858449  1842.387869  2493.742864  \n",
       "max    1553.600252  1930.609814  2749.514845  "
      ]
     },
     "execution_count": 3,
     "metadata": {},
     "output_type": "execute_result"
    }
   ],
   "source": [
    "data.describe()"
   ]
  },
  {
   "cell_type": "markdown",
   "metadata": {},
   "source": [
    "### Natural frequencies"
   ]
  },
  {
   "cell_type": "code",
   "execution_count": 7,
   "metadata": {},
   "outputs": [
    {
     "data": {
      "image/png": "[encoded data removed]",
      "text/plain": [
       "<matplotlib.figure.Figure at 0x17102ab57f0>"
      ]
     },
     "metadata": {},
     "output_type": "display_data"
    },
    {
     "data": {
      "image/png": "[encoded data removed]",
      "text/plain": [
       "<matplotlib.figure.Figure at 0x17102527b00>"
      ]
     },
     "metadata": {},
     "output_type": "display_data"
    },
    {
     "data": {
      "image/png": "[encoded data removed]",
      "text/plain": [
       "<matplotlib.figure.Figure at 0x17102c58b00>"
      ]
     },
     "metadata": {},
     "output_type": "display_data"
    }
   ],
   "source": [
    "freq = data.drop(['intercept', 'slope', 'r-squared'], axis=1)\n",
    "freq.boxplot()\n",
    "plt.title(\"Natural frequencies\")\n",
    "plt.xlabel(\"Mode\")\n",
    "plt.ylabel(\"Frequency (Hz)\")\n",
    "plt.show()\n",
    "\n",
    "error = data.drop(['r-squared'], axis=1)\n",
    "error.columns = error.columns.astype(str)\n",
    "for i in range(6):\n",
    "    error[str(i+1)] = (error[str(i+1)] - ((i+1) * error['slope'] + error['intercept'])) / error[str(i+1)] * 100\n",
    "error.drop(['intercept', 'slope'], axis=1, inplace=True)\n",
    "error.boxplot()\n",
    "plt.title(\"% distance from linear prediction\")\n",
    "plt.xlabel(\"Mode\")\n",
    "plt.ylabel(\"Error (%)\")\n",
    "plt.show()\n",
    "\n",
    "error = data.drop(['r-squared'], axis=1)\n",
    "error.columns = error.columns.astype(str)\n",
    "for i in range(6):\n",
    "    error[str(i+1)] = (error[str(i+1)] - ((i+1) * error['slope'] + error['intercept']))\n",
    "error.drop(['intercept', 'slope'], axis=1, inplace=True)\n",
    "error.boxplot()\n",
    "plt.title(\"Distance from linear prediction\")\n",
    "plt.xlabel(\"Mode\")\n",
    "plt.ylabel(\"Error (Hz)\")\n",
    "plt.show()"
   ]
  },
  {
   "cell_type": "markdown",
   "metadata": {},
   "source": [
    "### Solution properties"
   ]
  },
  {
   "cell_type": "code",
   "execution_count": 5,
   "metadata": {},
   "outputs": [
    {
     "data": {
      "image/png": "[encoded data removed]",
      "text/plain": [
       "<matplotlib.figure.Figure at 0x171024a9438>"
      ]
     },
     "metadata": {},
     "output_type": "display_data"
    },
    {
     "data": {
      "image/png": "[encoded data removed]",
      "text/plain": [
       "<matplotlib.figure.Figure at 0x1710252b160>"
      ]
     },
     "metadata": {},
     "output_type": "display_data"
    }
   ],
   "source": [
    "ax = sns.distplot(data['r-squared'], bins=15, kde=False, norm_hist=False)\n",
    "ax.set(xlabel=\"r-squared\", ylabel=\"Number of occurences\", title=\"r-squared for 50 iterations of GA\")\n",
    "plt.show()\n",
    "\n",
    "ax = sns.jointplot(data['intercept'], data['slope'])\n",
    "plt.show()"
   ]
  },
  {
   "cell_type": "code",
   "execution_count": null,
   "metadata": {},
   "outputs": [],
   "source": []
  }
 ],
 "metadata": {
  "kernelspec": {
   "display_name": "Python 3",
   "language": "python",
   "name": "python3"
  },
  "language_info": {
   "codemirror_mode": {
    "name": "ipython",
    "version": 3
   },
   "file_extension": ".py",
   "mimetype": "text/x-python",
   "name": "python",
   "nbconvert_exporter": "python",
   "pygments_lexer": "ipython3",
   "version": "3.6.4"
  }
 },
 "nbformat": 4,
 "nbformat_minor": 2
}
