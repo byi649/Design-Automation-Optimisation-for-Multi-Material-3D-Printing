{
 "cells": [
  {
   "cell_type": "code",
   "execution_count": 1,
   "metadata": {},
   "outputs": [],
   "source": [
    "import seaborn as sns\n",
    "import pandas as pd\n",
    "import matplotlib.pyplot as plt\n",
    "import numpy as np\n",
    "\n",
    "%matplotlib inline"
   ]
  },
  {
   "cell_type": "markdown",
   "metadata": {},
   "source": [
    "### Data input and cleaning"
   ]
  },
  {
   "cell_type": "code",
   "execution_count": 2,
   "metadata": {},
   "outputs": [
    {
     "data": {
      "text/html": [
       "<div>\n",
       "<style scoped>\n",
       "    .dataframe tbody tr th:only-of-type {\n",
       "        vertical-align: middle;\n",
       "    }\n",
       "\n",
       "    .dataframe tbody tr th {\n",
       "        vertical-align: top;\n",
       "    }\n",
       "\n",
       "    .dataframe thead th {\n",
       "        text-align: right;\n",
       "    }\n",
       "</style>\n",
       "<table border=\"1\" class=\"dataframe\">\n",
       "  <thead>\n",
       "    <tr style=\"text-align: right;\">\n",
       "      <th></th>\n",
       "      <th>error</th>\n",
       "      <th>finished</th>\n",
       "      <th>time_minutes</th>\n",
       "      <th>1</th>\n",
       "      <th>2</th>\n",
       "      <th>3</th>\n",
       "      <th>4</th>\n",
       "      <th>5</th>\n",
       "      <th>6</th>\n",
       "    </tr>\n",
       "  </thead>\n",
       "  <tbody>\n",
       "    <tr>\n",
       "      <th>0</th>\n",
       "      <td>0.944775</td>\n",
       "      <td>True</td>\n",
       "      <td>12.378105</td>\n",
       "      <td>109.161207</td>\n",
       "      <td>646.542348</td>\n",
       "      <td>708.980878</td>\n",
       "      <td>996.207988</td>\n",
       "      <td>1927.276333</td>\n",
       "      <td>2745.021853</td>\n",
       "    </tr>\n",
       "    <tr>\n",
       "      <th>1</th>\n",
       "      <td>1.718332</td>\n",
       "      <td>False</td>\n",
       "      <td>17.368541</td>\n",
       "      <td>113.230314</td>\n",
       "      <td>645.848327</td>\n",
       "      <td>719.917466</td>\n",
       "      <td>1008.137587</td>\n",
       "      <td>1841.950840</td>\n",
       "      <td>2714.559605</td>\n",
       "    </tr>\n",
       "    <tr>\n",
       "      <th>2</th>\n",
       "      <td>0.940502</td>\n",
       "      <td>True</td>\n",
       "      <td>19.376784</td>\n",
       "      <td>111.140052</td>\n",
       "      <td>647.180049</td>\n",
       "      <td>717.952341</td>\n",
       "      <td>994.989685</td>\n",
       "      <td>1934.835195</td>\n",
       "      <td>2756.924722</td>\n",
       "    </tr>\n",
       "    <tr>\n",
       "      <th>3</th>\n",
       "      <td>0.928665</td>\n",
       "      <td>True</td>\n",
       "      <td>7.740962</td>\n",
       "      <td>112.271083</td>\n",
       "      <td>655.659646</td>\n",
       "      <td>719.387385</td>\n",
       "      <td>999.455027</td>\n",
       "      <td>1926.170685</td>\n",
       "      <td>2729.931809</td>\n",
       "    </tr>\n",
       "    <tr>\n",
       "      <th>4</th>\n",
       "      <td>2.547709</td>\n",
       "      <td>False</td>\n",
       "      <td>16.164739</td>\n",
       "      <td>108.582158</td>\n",
       "      <td>651.380177</td>\n",
       "      <td>795.689245</td>\n",
       "      <td>1005.696169</td>\n",
       "      <td>1902.699841</td>\n",
       "      <td>2750.921716</td>\n",
       "    </tr>\n",
       "  </tbody>\n",
       "</table>\n",
       "</div>"
      ],
      "text/plain": [
       "      error  finished  time_minutes           1           2           3  \\\n",
       "0  0.944775      True     12.378105  109.161207  646.542348  708.980878   \n",
       "1  1.718332     False     17.368541  113.230314  645.848327  719.917466   \n",
       "2  0.940502      True     19.376784  111.140052  647.180049  717.952341   \n",
       "3  0.928665      True      7.740962  112.271083  655.659646  719.387385   \n",
       "4  2.547709     False     16.164739  108.582158  651.380177  795.689245   \n",
       "\n",
       "             4            5            6  \n",
       "0   996.207988  1927.276333  2745.021853  \n",
       "1  1008.137587  1841.950840  2714.559605  \n",
       "2   994.989685  1934.835195  2756.924722  \n",
       "3   999.455027  1926.170685  2729.931809  \n",
       "4  1005.696169  1902.699841  2750.921716  "
      ]
     },
     "execution_count": 2,
     "metadata": {},
     "output_type": "execute_result"
    }
   ],
   "source": [
    "sns.set()\n",
    "data = pd.read_csv(\"data_parallel.csv\", dtype={'time':np.float64})\n",
    "\n",
    "data['error'] = [float(x[1:-1]) for x in data['fbest']]\n",
    "data['finished'] = data['error'] <= 1\n",
    "data['time_minutes'] = data['time'] / 60\n",
    "\n",
    "data = data.join(data['freq'].str.split(', ', expand=True).apply(pd.to_numeric))\n",
    "\n",
    "data.drop([\"fbest\", \"freq\", \"sol\", \"time\", \"Unnamed: 0\", \"first\"], axis=1, inplace=True)\n",
    "    \n",
    "data.rename(columns=lambda x: x+1 if type(x)==int else x, inplace=True)\n",
    "data.head()"
   ]
  },
  {
   "cell_type": "code",
   "execution_count": 3,
   "metadata": {},
   "outputs": [
    {
     "data": {
      "text/html": [
       "<div>\n",
       "<style scoped>\n",
       "    .dataframe tbody tr th:only-of-type {\n",
       "        vertical-align: middle;\n",
       "    }\n",
       "\n",
       "    .dataframe tbody tr th {\n",
       "        vertical-align: top;\n",
       "    }\n",
       "\n",
       "    .dataframe thead th {\n",
       "        text-align: right;\n",
       "    }\n",
       "</style>\n",
       "<table border=\"1\" class=\"dataframe\">\n",
       "  <thead>\n",
       "    <tr style=\"text-align: right;\">\n",
       "      <th></th>\n",
       "      <th>error</th>\n",
       "      <th>time_minutes</th>\n",
       "      <th>1</th>\n",
       "      <th>2</th>\n",
       "      <th>3</th>\n",
       "      <th>4</th>\n",
       "      <th>5</th>\n",
       "      <th>6</th>\n",
       "    </tr>\n",
       "  </thead>\n",
       "  <tbody>\n",
       "    <tr>\n",
       "      <th>count</th>\n",
       "      <td>50.000000</td>\n",
       "      <td>50.000000</td>\n",
       "      <td>50.000000</td>\n",
       "      <td>50.000000</td>\n",
       "      <td>50.000000</td>\n",
       "      <td>50.000000</td>\n",
       "      <td>50.000000</td>\n",
       "      <td>50.000000</td>\n",
       "    </tr>\n",
       "    <tr>\n",
       "      <th>mean</th>\n",
       "      <td>1.328799</td>\n",
       "      <td>16.761272</td>\n",
       "      <td>110.888139</td>\n",
       "      <td>650.329328</td>\n",
       "      <td>716.896968</td>\n",
       "      <td>1009.120391</td>\n",
       "      <td>1933.206792</td>\n",
       "      <td>2738.769369</td>\n",
       "    </tr>\n",
       "    <tr>\n",
       "      <th>std</th>\n",
       "      <td>0.490736</td>\n",
       "      <td>3.920188</td>\n",
       "      <td>3.160892</td>\n",
       "      <td>11.937938</td>\n",
       "      <td>14.961387</td>\n",
       "      <td>14.864889</td>\n",
       "      <td>37.030321</td>\n",
       "      <td>40.153121</td>\n",
       "    </tr>\n",
       "    <tr>\n",
       "      <th>min</th>\n",
       "      <td>0.530349</td>\n",
       "      <td>7.478923</td>\n",
       "      <td>102.651336</td>\n",
       "      <td>617.094226</td>\n",
       "      <td>687.477694</td>\n",
       "      <td>966.170659</td>\n",
       "      <td>1796.262201</td>\n",
       "      <td>2667.718866</td>\n",
       "    </tr>\n",
       "    <tr>\n",
       "      <th>25%</th>\n",
       "      <td>0.931624</td>\n",
       "      <td>14.764106</td>\n",
       "      <td>109.034358</td>\n",
       "      <td>645.918810</td>\n",
       "      <td>709.808295</td>\n",
       "      <td>1002.915299</td>\n",
       "      <td>1915.364232</td>\n",
       "      <td>2713.146132</td>\n",
       "    </tr>\n",
       "    <tr>\n",
       "      <th>50%</th>\n",
       "      <td>1.277521</td>\n",
       "      <td>18.166316</td>\n",
       "      <td>110.062220</td>\n",
       "      <td>650.727708</td>\n",
       "      <td>716.758660</td>\n",
       "      <td>1009.050583</td>\n",
       "      <td>1936.239087</td>\n",
       "      <td>2729.416311</td>\n",
       "    </tr>\n",
       "    <tr>\n",
       "      <th>75%</th>\n",
       "      <td>1.702579</td>\n",
       "      <td>19.429696</td>\n",
       "      <td>111.518774</td>\n",
       "      <td>655.252718</td>\n",
       "      <td>720.367999</td>\n",
       "      <td>1013.866119</td>\n",
       "      <td>1950.499171</td>\n",
       "      <td>2757.266145</td>\n",
       "    </tr>\n",
       "    <tr>\n",
       "      <th>max</th>\n",
       "      <td>2.547709</td>\n",
       "      <td>22.308358</td>\n",
       "      <td>120.055649</td>\n",
       "      <td>680.452251</td>\n",
       "      <td>795.689245</td>\n",
       "      <td>1063.480666</td>\n",
       "      <td>2029.340986</td>\n",
       "      <td>2852.060133</td>\n",
       "    </tr>\n",
       "  </tbody>\n",
       "</table>\n",
       "</div>"
      ],
      "text/plain": [
       "           error  time_minutes           1           2           3  \\\n",
       "count  50.000000     50.000000   50.000000   50.000000   50.000000   \n",
       "mean    1.328799     16.761272  110.888139  650.329328  716.896968   \n",
       "std     0.490736      3.920188    3.160892   11.937938   14.961387   \n",
       "min     0.530349      7.478923  102.651336  617.094226  687.477694   \n",
       "25%     0.931624     14.764106  109.034358  645.918810  709.808295   \n",
       "50%     1.277521     18.166316  110.062220  650.727708  716.758660   \n",
       "75%     1.702579     19.429696  111.518774  655.252718  720.367999   \n",
       "max     2.547709     22.308358  120.055649  680.452251  795.689245   \n",
       "\n",
       "                 4            5            6  \n",
       "count    50.000000    50.000000    50.000000  \n",
       "mean   1009.120391  1933.206792  2738.769369  \n",
       "std      14.864889    37.030321    40.153121  \n",
       "min     966.170659  1796.262201  2667.718866  \n",
       "25%    1002.915299  1915.364232  2713.146132  \n",
       "50%    1009.050583  1936.239087  2729.416311  \n",
       "75%    1013.866119  1950.499171  2757.266145  \n",
       "max    1063.480666  2029.340986  2852.060133  "
      ]
     },
     "execution_count": 3,
     "metadata": {},
     "output_type": "execute_result"
    }
   ],
   "source": [
    "data.describe()"
   ]
  },
  {
   "cell_type": "markdown",
   "metadata": {},
   "source": [
    "### Natural frequencies"
   ]
  },
  {
   "cell_type": "code",
   "execution_count": 4,
   "metadata": {},
   "outputs": [
    {
     "data": {
      "image/png": "[encoded data removed]",
      "text/plain": [
       "<Figure size 432x288 with 1 Axes>"
      ]
     },
     "metadata": {},
     "output_type": "display_data"
    }
   ],
   "source": [
    "freq = data.drop(['error', 'finished', 'time_minutes'], axis=1)\n",
    "freq.boxplot()\n",
    "plt.title(\"Natural frequencies\")\n",
    "plt.xlabel(\"Mode\")\n",
    "plt.ylabel(\"Frequency (Hz)\")\n",
    "plt.show()"
   ]
  },
  {
   "cell_type": "markdown",
   "metadata": {},
   "source": [
    "### Solution times and final errors"
   ]
  },
  {
   "cell_type": "code",
   "execution_count": 5,
   "metadata": {},
   "outputs": [
    {
     "name": "stderr",
     "output_type": "stream",
     "text": [
      "/home/byi649/.local/lib/python3.5/site-packages/matplotlib/axes/_axes.py:6462: UserWarning: The 'normed' kwarg is deprecated, and has been replaced by the 'density' kwarg.\n",
      "  warnings.warn(\"The 'normed' kwarg is deprecated, and has been \"\n"
     ]
    },
    {
     "data": {
      "image/png": "[encoded data removed]",
      "text/plain": [
       "<Figure size 432x288 with 1 Axes>"
      ]
     },
     "metadata": {},
     "output_type": "display_data"
    },
    {
     "data": {
      "image/png": "[encoded data removed]",
      "text/plain": [
       "<Figure size 432x288 with 1 Axes>"
      ]
     },
     "metadata": {},
     "output_type": "display_data"
    }
   ],
   "source": [
    "ax = sns.distplot(data['error'], bins=15, kde=False, norm_hist=False)\n",
    "ax.set(xlabel=\"Error (%)\", ylabel=\"Number of occurences\", title=\"Final error for 50 iterations of GA\")\n",
    "plt.show()\n",
    "\n",
    "ax = sns.distplot(data['time_minutes'], bins=15, kde=False, norm_hist=False)\n",
    "ax.set(xlabel=\"Time (minutes)\", ylabel=\"Number of occurences\", title=\"Time taken each for 50 iterations of GA\")\n",
    "plt.show()"
   ]
  },
  {
   "cell_type": "markdown",
   "metadata": {},
   "source": [
    "### Grouping by finish time"
   ]
  },
  {
   "cell_type": "code",
   "execution_count": 6,
   "metadata": {},
   "outputs": [
    {
     "name": "stdout",
     "output_type": "stream",
     "text": [
      "False    33\n",
      "True     17\n"
     ]
    }
   ],
   "source": [
    "print(data['finished'].value_counts().to_string())"
   ]
  },
  {
   "cell_type": "code",
   "execution_count": 7,
   "metadata": {},
   "outputs": [
    {
     "name": "stderr",
     "output_type": "stream",
     "text": [
      "/home/byi649/.local/lib/python3.5/site-packages/matplotlib/axes/_axes.py:6462: UserWarning: The 'normed' kwarg is deprecated, and has been replaced by the 'density' kwarg.\n",
      "  warnings.warn(\"The 'normed' kwarg is deprecated, and has been \"\n"
     ]
    },
    {
     "data": {
      "image/png": "[encoded data removed]",
      "text/plain": [
       "<Figure size 432x288 with 1 Axes>"
      ]
     },
     "metadata": {},
     "output_type": "display_data"
    }
   ],
   "source": [
    "ax = sns.distplot(data['time_minutes'].loc[data['finished']], bins=15, kde=False, norm_hist=False, label=\"Reached 1% error\")\n",
    "sns.distplot(data['time_minutes'].loc[-data['finished']], bins=15, kde=False, norm_hist=False, label=\"Did not reach 1% error\")\n",
    "ax.set(xlabel=\"Time taken (minutes)\", ylabel=\"Number of occurences\", title=\"Evolution times for 50 iterations of GA\")\n",
    "plt.legend()\n",
    "plt.show()"
   ]
  },
  {
   "cell_type": "code",
   "execution_count": null,
   "metadata": {},
   "outputs": [],
   "source": []
  }
 ],
 "metadata": {
  "kernelspec": {
   "display_name": "Python 3",
   "language": "python",
   "name": "python3"
  },
  "language_info": {
   "codemirror_mode": {
    "name": "ipython",
    "version": 3
   },
   "file_extension": ".py",
   "mimetype": "text/x-python",
   "name": "python",
   "nbconvert_exporter": "python",
   "pygments_lexer": "ipython3",
   "version": "3.5.2"
  }
 },
 "nbformat": 4,
 "nbformat_minor": 2
}
