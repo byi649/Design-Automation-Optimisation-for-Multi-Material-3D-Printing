{
 "cells": [
  {
   "cell_type": "code",
   "execution_count": null,
   "metadata": {
    "collapsed": true
   },
   "outputs": [],
   "source": [
    "from scipy import stats\n",
    "import matplotlib.pyplot as plt\n",
    "import blackbox"
   ]
  },
  {
   "cell_type": "code",
   "execution_count": null,
   "metadata": {},
   "outputs": [],
   "source": [
    "#0 = Flex, 1 = Steelfill\n",
    "bin = [0, 1, 0, 0, 1, 1, 0, 1, 1, 1, 0, 1, 0, 1, 1, 1, 1, 1, 1, 0, 0, 1, 0, 0, 0, 1, 0, 0, 0, 0, 1, 0, 0, 0, 1, 1, 1, 0, 1, 0]\n",
    "\n",
    "fig = plt.figure((figsize=(15, 100)))\n",
    "plt.imshow([bin[x:40:4] for x in range(4)])\n",
    "plt.show()"
   ]
  },
  {
   "cell_type": "code",
   "execution_count": null,
   "metadata": {},
   "outputs": [],
   "source": [
    "freq = blackbox.blackbox_voxel(bin)\n",
    "print(\"Natural frequencies:\")\n",
    "print('\\n'.join('{}: {:.2f} Hz'.format(*k) for k in enumerate(freq, 1)))\n",
    "\n",
    "slope, intercept, r_value, p_value, std_err = stats.linregress(range(1,7), freq)\n",
    "\n",
    "print(\"Slope: {:.2f}\".format(slope))\n",
    "print(\"Intercept: {:.2f}\".format(intercept))\n",
    "print(\"r-squared: {:.4f}\".format(r_value**2))\n",
    "\n",
    "xind = range(1,7)\n",
    "y = [intercept + x*slope for x in xind]\n",
    "\n",
    "plt.scatter(xind, freq)\n",
    "plt.plot(xind, y, 'r')\n",
    "plt.title(\"Natural frequencies from uniform-seeking objective function\")\n",
    "plt.xlabel(\"Mode\")\n",
    "plt.ylabel(\"Frequency (Hz)\")\n",
    "\n",
    "plt.show()\n",
    "print(bin)"
   ]
  }
 ],
 "metadata": {
  "kernelspec": {
   "display_name": "Python 3",
   "language": "python",
   "name": "python3"
  },
  "language_info": {
   "codemirror_mode": {
    "name": "ipython",
    "version": 3
   },
   "file_extension": ".py",
   "mimetype": "text/x-python",
   "name": "python",
   "nbconvert_exporter": "python",
   "pygments_lexer": "ipython3",
   "version": "3.6.1"
  }
 },
 "nbformat": 4,
 "nbformat_minor": 2
}
