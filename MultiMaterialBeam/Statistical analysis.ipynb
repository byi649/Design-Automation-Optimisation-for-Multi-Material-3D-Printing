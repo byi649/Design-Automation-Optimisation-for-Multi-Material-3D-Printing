{
 "cells": [
  {
   "cell_type": "code",
   "execution_count": 1,
   "metadata": {},
   "outputs": [],
   "source": [
    "import seaborn as sns\n",
    "import pandas as pd\n",
    "import matplotlib.pyplot as plt\n",
    "import numpy as np\n",
    "\n",
    "%matplotlib inline"
   ]
  },
  {
   "cell_type": "markdown",
   "metadata": {},
   "source": [
    "### Data input and cleaning"
   ]
  },
  {
   "cell_type": "code",
   "execution_count": 2,
   "metadata": {},
   "outputs": [
    {
     "data": {
      "text/html": [
       "<div>\n",
       "<style>\n",
       "    .dataframe thead tr:only-child th {\n",
       "        text-align: right;\n",
       "    }\n",
       "\n",
       "    .dataframe thead th {\n",
       "        text-align: left;\n",
       "    }\n",
       "\n",
       "    .dataframe tbody tr th {\n",
       "        vertical-align: top;\n",
       "    }\n",
       "</style>\n",
       "<table border=\"1\" class=\"dataframe\">\n",
       "  <thead>\n",
       "    <tr style=\"text-align: right;\">\n",
       "      <th></th>\n",
       "      <th>error</th>\n",
       "      <th>finished</th>\n",
       "      <th>time_minutes</th>\n",
       "      <th>1</th>\n",
       "      <th>2</th>\n",
       "      <th>3</th>\n",
       "      <th>4</th>\n",
       "      <th>5</th>\n",
       "      <th>6</th>\n",
       "    </tr>\n",
       "  </thead>\n",
       "  <tbody>\n",
       "    <tr>\n",
       "      <th>0</th>\n",
       "      <td>2.403478</td>\n",
       "      <td>False</td>\n",
       "      <td>32.386642</td>\n",
       "      <td>112.980719</td>\n",
       "      <td>660.290492</td>\n",
       "      <td>714.849879</td>\n",
       "      <td>949.376778</td>\n",
       "      <td>1959.483058</td>\n",
       "      <td>2780.965652</td>\n",
       "    </tr>\n",
       "    <tr>\n",
       "      <th>1</th>\n",
       "      <td>1.855209</td>\n",
       "      <td>False</td>\n",
       "      <td>30.721941</td>\n",
       "      <td>110.419791</td>\n",
       "      <td>676.108107</td>\n",
       "      <td>732.917585</td>\n",
       "      <td>991.447667</td>\n",
       "      <td>1912.413372</td>\n",
       "      <td>2749.814700</td>\n",
       "    </tr>\n",
       "    <tr>\n",
       "      <th>2</th>\n",
       "      <td>0.985724</td>\n",
       "      <td>True</td>\n",
       "      <td>12.420635</td>\n",
       "      <td>109.976480</td>\n",
       "      <td>640.395667</td>\n",
       "      <td>698.374538</td>\n",
       "      <td>1017.877426</td>\n",
       "      <td>1932.859957</td>\n",
       "      <td>2723.479643</td>\n",
       "    </tr>\n",
       "    <tr>\n",
       "      <th>3</th>\n",
       "      <td>1.195090</td>\n",
       "      <td>False</td>\n",
       "      <td>34.650623</td>\n",
       "      <td>109.654083</td>\n",
       "      <td>650.125053</td>\n",
       "      <td>717.940521</td>\n",
       "      <td>992.943953</td>\n",
       "      <td>1850.264346</td>\n",
       "      <td>2722.642451</td>\n",
       "    </tr>\n",
       "    <tr>\n",
       "      <th>4</th>\n",
       "      <td>0.845875</td>\n",
       "      <td>True</td>\n",
       "      <td>9.947178</td>\n",
       "      <td>110.222916</td>\n",
       "      <td>653.970547</td>\n",
       "      <td>721.803550</td>\n",
       "      <td>1042.193793</td>\n",
       "      <td>1954.836097</td>\n",
       "      <td>2725.505979</td>\n",
       "    </tr>\n",
       "  </tbody>\n",
       "</table>\n",
       "</div>"
      ],
      "text/plain": [
       "      error  finished  time_minutes           1           2           3  \\\n",
       "0  2.403478     False     32.386642  112.980719  660.290492  714.849879   \n",
       "1  1.855209     False     30.721941  110.419791  676.108107  732.917585   \n",
       "2  0.985724      True     12.420635  109.976480  640.395667  698.374538   \n",
       "3  1.195090     False     34.650623  109.654083  650.125053  717.940521   \n",
       "4  0.845875      True      9.947178  110.222916  653.970547  721.803550   \n",
       "\n",
       "             4            5            6  \n",
       "0   949.376778  1959.483058  2780.965652  \n",
       "1   991.447667  1912.413372  2749.814700  \n",
       "2  1017.877426  1932.859957  2723.479643  \n",
       "3   992.943953  1850.264346  2722.642451  \n",
       "4  1042.193793  1954.836097  2725.505979  "
      ]
     },
     "execution_count": 2,
     "metadata": {},
     "output_type": "execute_result"
    }
   ],
   "source": [
    "sns.set()\n",
    "data = pd.read_csv(\"data.csv\", dtype={'time':np.float64})\n",
    "\n",
    "data['error'] = [float(x[1:-1]) for x in data['fbest']]\n",
    "data['finished'] = data['error'] <= 1\n",
    "data['time_minutes'] = data['time'] / 60\n",
    "\n",
    "data = data.join(data['freq'].str.split(', ', expand=True).apply(pd.to_numeric))\n",
    "\n",
    "data.drop([\"fbest\", \"freq\", \"sol\", \"time\", \"Unnamed: 0\", \"first\"], axis=1, inplace=True)\n",
    "    \n",
    "data.rename(columns=lambda x: x+1 if type(x)==int else x, inplace=True)\n",
    "data.head()"
   ]
  },
  {
   "cell_type": "code",
   "execution_count": 3,
   "metadata": {},
   "outputs": [
    {
     "data": {
      "text/html": [
       "<div>\n",
       "<style>\n",
       "    .dataframe thead tr:only-child th {\n",
       "        text-align: right;\n",
       "    }\n",
       "\n",
       "    .dataframe thead th {\n",
       "        text-align: left;\n",
       "    }\n",
       "\n",
       "    .dataframe tbody tr th {\n",
       "        vertical-align: top;\n",
       "    }\n",
       "</style>\n",
       "<table border=\"1\" class=\"dataframe\">\n",
       "  <thead>\n",
       "    <tr style=\"text-align: right;\">\n",
       "      <th></th>\n",
       "      <th>error</th>\n",
       "      <th>time_minutes</th>\n",
       "      <th>1</th>\n",
       "      <th>2</th>\n",
       "      <th>3</th>\n",
       "      <th>4</th>\n",
       "      <th>5</th>\n",
       "      <th>6</th>\n",
       "    </tr>\n",
       "  </thead>\n",
       "  <tbody>\n",
       "    <tr>\n",
       "      <th>count</th>\n",
       "      <td>50.000000</td>\n",
       "      <td>50.000000</td>\n",
       "      <td>50.000000</td>\n",
       "      <td>50.000000</td>\n",
       "      <td>50.000000</td>\n",
       "      <td>50.000000</td>\n",
       "      <td>50.000000</td>\n",
       "      <td>50.000000</td>\n",
       "    </tr>\n",
       "    <tr>\n",
       "      <th>mean</th>\n",
       "      <td>1.310204</td>\n",
       "      <td>27.591638</td>\n",
       "      <td>110.532627</td>\n",
       "      <td>651.599202</td>\n",
       "      <td>715.066224</td>\n",
       "      <td>1006.367433</td>\n",
       "      <td>1934.425864</td>\n",
       "      <td>2735.745510</td>\n",
       "    </tr>\n",
       "    <tr>\n",
       "      <th>std</th>\n",
       "      <td>0.453445</td>\n",
       "      <td>6.608646</td>\n",
       "      <td>2.167161</td>\n",
       "      <td>13.825042</td>\n",
       "      <td>11.416067</td>\n",
       "      <td>17.274309</td>\n",
       "      <td>35.000879</td>\n",
       "      <td>38.687696</td>\n",
       "    </tr>\n",
       "    <tr>\n",
       "      <th>min</th>\n",
       "      <td>0.574692</td>\n",
       "      <td>9.524698</td>\n",
       "      <td>103.788086</td>\n",
       "      <td>607.825209</td>\n",
       "      <td>693.879595</td>\n",
       "      <td>949.376778</td>\n",
       "      <td>1833.414517</td>\n",
       "      <td>2628.125725</td>\n",
       "    </tr>\n",
       "    <tr>\n",
       "      <th>25%</th>\n",
       "      <td>0.991040</td>\n",
       "      <td>25.540307</td>\n",
       "      <td>109.297419</td>\n",
       "      <td>646.895865</td>\n",
       "      <td>706.711940</td>\n",
       "      <td>999.664234</td>\n",
       "      <td>1923.271952</td>\n",
       "      <td>2715.208749</td>\n",
       "    </tr>\n",
       "    <tr>\n",
       "      <th>50%</th>\n",
       "      <td>1.202902</td>\n",
       "      <td>29.491869</td>\n",
       "      <td>110.168344</td>\n",
       "      <td>652.619700</td>\n",
       "      <td>715.527452</td>\n",
       "      <td>1010.533312</td>\n",
       "      <td>1941.469477</td>\n",
       "      <td>2727.044953</td>\n",
       "    </tr>\n",
       "    <tr>\n",
       "      <th>75%</th>\n",
       "      <td>1.520265</td>\n",
       "      <td>32.284413</td>\n",
       "      <td>111.531649</td>\n",
       "      <td>659.322373</td>\n",
       "      <td>722.191488</td>\n",
       "      <td>1014.632511</td>\n",
       "      <td>1958.337009</td>\n",
       "      <td>2749.676626</td>\n",
       "    </tr>\n",
       "    <tr>\n",
       "      <th>max</th>\n",
       "      <td>2.805507</td>\n",
       "      <td>36.241435</td>\n",
       "      <td>115.998648</td>\n",
       "      <td>684.613271</td>\n",
       "      <td>745.644051</td>\n",
       "      <td>1042.193793</td>\n",
       "      <td>1995.001339</td>\n",
       "      <td>2861.408033</td>\n",
       "    </tr>\n",
       "  </tbody>\n",
       "</table>\n",
       "</div>"
      ],
      "text/plain": [
       "           error  time_minutes           1           2           3  \\\n",
       "count  50.000000     50.000000   50.000000   50.000000   50.000000   \n",
       "mean    1.310204     27.591638  110.532627  651.599202  715.066224   \n",
       "std     0.453445      6.608646    2.167161   13.825042   11.416067   \n",
       "min     0.574692      9.524698  103.788086  607.825209  693.879595   \n",
       "25%     0.991040     25.540307  109.297419  646.895865  706.711940   \n",
       "50%     1.202902     29.491869  110.168344  652.619700  715.527452   \n",
       "75%     1.520265     32.284413  111.531649  659.322373  722.191488   \n",
       "max     2.805507     36.241435  115.998648  684.613271  745.644051   \n",
       "\n",
       "                 4            5            6  \n",
       "count    50.000000    50.000000    50.000000  \n",
       "mean   1006.367433  1934.425864  2735.745510  \n",
       "std      17.274309    35.000879    38.687696  \n",
       "min     949.376778  1833.414517  2628.125725  \n",
       "25%     999.664234  1923.271952  2715.208749  \n",
       "50%    1010.533312  1941.469477  2727.044953  \n",
       "75%    1014.632511  1958.337009  2749.676626  \n",
       "max    1042.193793  1995.001339  2861.408033  "
      ]
     },
     "execution_count": 3,
     "metadata": {},
     "output_type": "execute_result"
    }
   ],
   "source": [
    "data.describe()"
   ]
  },
  {
   "cell_type": "markdown",
   "metadata": {},
   "source": [
    "### Natural frequencies"
   ]
  },
  {
   "cell_type": "code",
   "execution_count": 4,
   "metadata": {},
   "outputs": [
    {
     "data": {
      "image/png": "[encoded data removed]",
      "text/plain": [
       "<matplotlib.figure.Figure at 0x1f91e40f630>"
      ]
     },
     "metadata": {},
     "output_type": "display_data"
    }
   ],
   "source": [
    "freq = data.drop(['error', 'finished', 'time_minutes'], axis=1)\n",
    "freq.boxplot()\n",
    "plt.title(\"Natural frequencies\")\n",
    "plt.xlabel(\"Mode\")\n",
    "plt.ylabel(\"Frequency (Hz)\")\n",
    "plt.show()"
   ]
  },
  {
   "cell_type": "markdown",
   "metadata": {},
   "source": [
    "### Solution times and final errors"
   ]
  },
  {
   "cell_type": "code",
   "execution_count": 5,
   "metadata": {},
   "outputs": [
    {
     "data": {
      "image/png": "[encoded data removed]",
      "text/plain": [
       "<matplotlib.figure.Figure at 0x1f91e3815f8>"
      ]
     },
     "metadata": {},
     "output_type": "display_data"
    },
    {
     "data": {
      "image/png": "[encoded data removed]",
      "text/plain": [
       "<matplotlib.figure.Figure at 0x1f91e37a5c0>"
      ]
     },
     "metadata": {},
     "output_type": "display_data"
    }
   ],
   "source": [
    "ax = sns.distplot(data['error'], bins=15, kde=False, norm_hist=False)\n",
    "ax.set(xlabel=\"Error (%)\", ylabel=\"Number of occurences\", title=\"Final error for 50 iterations of GA\")\n",
    "plt.show()\n",
    "\n",
    "ax = sns.distplot(data['time_minutes'], bins=15, kde=False, norm_hist=False)\n",
    "ax.set(xlabel=\"Time (minutes)\", ylabel=\"Number of occurences\", title=\"Time taken each for 50 iterations of GA\")\n",
    "plt.show()"
   ]
  },
  {
   "cell_type": "markdown",
   "metadata": {},
   "source": [
    "### Grouping by finish time"
   ]
  },
  {
   "cell_type": "code",
   "execution_count": 6,
   "metadata": {},
   "outputs": [
    {
     "name": "stdout",
     "output_type": "stream",
     "text": [
      "False    36\n",
      "True     14\n"
     ]
    }
   ],
   "source": [
    "print(data['finished'].value_counts().to_string())"
   ]
  },
  {
   "cell_type": "code",
   "execution_count": 7,
   "metadata": {},
   "outputs": [
    {
     "data": {
      "image/png": "[encoded data removed]",
      "text/plain": [
       "<matplotlib.figure.Figure at 0x1f91e5cf780>"
      ]
     },
     "metadata": {},
     "output_type": "display_data"
    }
   ],
   "source": [
    "ax = sns.distplot(data['time_minutes'].loc[data['finished']], bins=15, kde=False, norm_hist=False, label=\"Reached 1% error\")\n",
    "sns.distplot(data['time_minutes'].loc[-data['finished']], bins=15, kde=False, norm_hist=False, label=\"Did not reach 1% error\")\n",
    "ax.set(xlabel=\"Time taken (minutes)\", ylabel=\"Number of occurences\", title=\"Evolution times for 50 iterations of GA\")\n",
    "plt.legend()\n",
    "plt.show()"
   ]
  },
  {
   "cell_type": "code",
   "execution_count": null,
   "metadata": {
    "collapsed": true
   },
   "outputs": [],
   "source": []
  }
 ],
 "metadata": {
  "kernelspec": {
   "display_name": "Python 3",
   "language": "python",
   "name": "python3"
  },
  "language_info": {
   "codemirror_mode": {
    "name": "ipython",
    "version": 3
   },
   "file_extension": ".py",
   "mimetype": "text/x-python",
   "name": "python",
   "nbconvert_exporter": "python",
   "pygments_lexer": "ipython3",
   "version": "3.6.1"
  }
 },
 "nbformat": 4,
 "nbformat_minor": 2
}
