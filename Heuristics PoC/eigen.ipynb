{
 "cells": [
  {
   "cell_type": "code",
   "execution_count": null,
   "metadata": {},
   "outputs": [],
   "source": [
    "!conda config --add channels conda-forge\n",
    "!conda install -y fenics"
   ]
  },
  {
   "cell_type": "markdown",
   "metadata": {},
   "source": [
    "# Eigenvalue solver"
   ]
  },
  {
   "cell_type": "code",
   "execution_count": null,
   "metadata": {},
   "outputs": [],
   "source": [
    "from fenics import *\n",
    "from dolfin import *\n",
    "import math\n",
    "import numpy as np\n",
    "    \n",
    "moduli = [70e9]    \n",
    "\n",
    "# Create n different materials\n",
    "class K(Expression):\n",
    "    def set_k_values(self, k_array):\n",
    "        self.k_array = k_array\n",
    "    def eval(self, value, x):\n",
    "        # Cantilever is split into n materials serially along length\n",
    "        index = math.floor(x[0]*len(self.k_array))\n",
    "        value[0] = self.k_array[int(index)]\n",
    "\n",
    "# Initialize kappa\n",
    "kappa = K(degree=0)\n",
    "kappa.set_k_values(moduli)\n",
    "\n",
    "# Scaled variables\n",
    "L = 1 # Length\n",
    "W = 0.02 # Width\n",
    "\n",
    "Young = kappa\n",
    "poisson = 0.3\n",
    "\n",
    "lambda_ = Young * poisson / ((1 + poisson) * (1 - 2*poisson))\n",
    "mu = Young / (2 * (1 + poisson))\n",
    "\n",
    "rho = 2700\n",
    "\n",
    "# Create mesh and define function space\n",
    "mesh = BoxMesh(Point(0, 0, 0), Point(L, W, W), 100, 3, 3)\n",
    "V = VectorFunctionSpace(mesh, 'P', 1)\n",
    "\n",
    "# Define boundary condition\n",
    "tol = 1E-14\n",
    "\n",
    "def clamped_boundary(x, on_boundary):\n",
    "    return on_boundary and x[0] < tol\n",
    "\n",
    "bc = DirichletBC(V, Constant((0, 0, 0)), clamped_boundary)\n",
    "\n",
    "# Define strain and stress\n",
    "def epsilon(u):\n",
    "    return 0.5*(nabla_grad(u) + nabla_grad(u).T)\n",
    "    #return sym(nabla_grad(u))\n",
    "\n",
    "def sigma(u):\n",
    "    return lambda_*nabla_div(u)*Identity(d) + 2*mu*epsilon(u)\n",
    "\n",
    "# Define variational problem\n",
    "u = TrialFunction(V)\n",
    "d = u.geometric_dimension()  # space dimension\n",
    "v = TestFunction(V)\n",
    "#f = Constant((0, 0, -rho*g))\n",
    "T = Constant((0, 0, 0))\n",
    "a = inner(sigma(u), epsilon(v))*dx\n",
    "#L = dot(f, v)*dx + dot(T, v)*ds\n",
    "\n",
    "# Assemble stiffness form\n",
    "A = PETScMatrix()\n",
    "assemble(a, tensor=A)\n",
    "\n",
    "# Create eigensolver\n",
    "eigensolver = SLEPcEigenSolver(A)\n",
    "\n",
    "# Compute all eigenvalues of A x = \\lambda x\n",
    "print(\"Computing eigenvalues. This can take a minute.\")\n",
    "#eigensolver.parameters['spectrum'] = 'smallest real'\n",
    "eigensolver.solve(15)\n",
    "#eigensolver.get_eigenvalue(1)\n",
    "\n",
    "# Extract largest (first) eigenpair\n",
    "eigens = []\n",
    "for i in range(15):\n",
    "    eigens.append(eigensolver.get_eigenpair(i + 1))\n",
    "    \n",
    "for i in range(len(eigens)):\n",
    "    print(\"Eigenvalue\", i, \": \", eigens[i][0], \" | Frequency\", i, \": \", np.sqrt(eigens[i][0]))\n",
    "    \n"
   ]
  },
  {
   "cell_type": "markdown",
   "metadata": {},
   "source": [
    "# Displacement"
   ]
  },
  {
   "cell_type": "code",
   "execution_count": 15,
   "metadata": {},
   "outputs": [],
   "source": [
    "\"\"\"\n",
    "FEniCS tutorial demo program: Linear elastic problem.\n",
    "\n",
    "  -div(sigma(u)) = f\n",
    "\n",
    "The model is used to simulate an elastic beam clamped at\n",
    "its left end and deformed under its own weight.\n",
    "\"\"\"\n",
    "\n",
    "from fenics import *\n",
    "from dolfin import *\n",
    "import math\n",
    "import numpy as np\n",
    "\n",
    "def run_solver(moduli):\n",
    "    \n",
    "    # Create n different materials\n",
    "    class K(Expression):\n",
    "        def set_k_values(self, k_array):\n",
    "            self.k_array = k_array\n",
    "        def eval(self, value, x):\n",
    "            # Cantilever is split into n materials serially along length\n",
    "            index = math.floor(x[0]*len(self.k_array))\n",
    "            value[0] = self.k_array[int(index)]\n",
    "            \n",
    "    # Initialize kappa\n",
    "    kappa = K(degree=0)\n",
    "    kappa.set_k_values(moduli)\n",
    "    \n",
    "    # Scaled variables\n",
    "    L = 1 # Length\n",
    "    W = 0.2 # Width\n",
    "    \n",
    "    Young = kappa\n",
    "    poisson = 0.3\n",
    "    \n",
    "    lambda_ = Young * poisson / ((1 + poisson) * (1 - 2*poisson))\n",
    "    mu = Young / (2 * (1 + poisson))\n",
    "    \n",
    "    rho = 2.7e3\n",
    "    g = 9.8\n",
    "    \n",
    "    # Create mesh and define function space\n",
    "    mesh = BoxMesh(Point(0, 0, 0), Point(L, W, W), 100, 3, 3)\n",
    "    V = VectorFunctionSpace(mesh, 'P', 1)\n",
    "    \n",
    "    # Define boundary condition\n",
    "    tol = 1E-14\n",
    "    \n",
    "    def clamped_boundary(x, on_boundary):\n",
    "        return on_boundary and x[0] < tol\n",
    "    \n",
    "    bc = DirichletBC(V, Constant((0, 0, 0)), clamped_boundary)\n",
    "    \n",
    "    # Define strain and stress\n",
    "    def epsilon(u):\n",
    "        return 0.5*(nabla_grad(u) + nabla_grad(u).T)\n",
    "        #return sym(nabla_grad(u))\n",
    "    \n",
    "    def sigma(u):\n",
    "        return lambda_*nabla_div(u)*Identity(d) + 2*mu*epsilon(u)\n",
    "    \n",
    "    # Define variational problem\n",
    "    u = TrialFunction(V)\n",
    "    d = u.geometric_dimension()  # space dimension\n",
    "    v = TestFunction(V)\n",
    "    f = Constant((0, 0, -rho*g))\n",
    "    T = Constant((0, 0, 0))\n",
    "    a = inner(sigma(u), epsilon(v))*dx\n",
    "    L = dot(f, v)*dx + dot(T, v)*ds\n",
    "    \n",
    "    # Compute solution\n",
    "    u = Function(V)\n",
    "    solve(a == L, u, bc)\n",
    "    \n",
    "    # Save solution\n",
    "    #vtkfile = File('poisson/solution.pvd')\n",
    "    #vtkfile << u\n",
    "    \n",
    "    # Compute magnitude of displacement\n",
    "    V = FunctionSpace(mesh, 'P', 1)\n",
    "    u_magnitude = sqrt(dot(u, u))\n",
    "    u_magnitude = project(u_magnitude, V)\n",
    "    #plot(u_magnitude, 'Displacement magnitude')\n",
    "    #print('min/max u:',\n",
    "    #      u_magnitude.vector().get_local().min(),\n",
    "    #      u_magnitude.vector().get_local().max())\n",
    "    #import matplotlib\n",
    "    vertical = u_magnitude.vector().get_local()[::4]\n",
    "    #matplotlib.pyplot.plot(-vertical)\n",
    "    \n",
    "    return vertical\n",
    "\n",
    "\n",
    "def get_fitness(moduli, target):\n",
    "    deflections = run_solver(moduli)\n",
    "    interestPoints = [deflections[0], deflections[100], deflections[200], deflections[300], deflections[400]]\n",
    "    differences = np.subtract(interestPoints, target)\n",
    "    fitness = np.linalg.norm(differences)\n",
    "    \n",
    "    return fitness"
   ]
  },
  {
   "cell_type": "code",
   "execution_count": 46,
   "metadata": {},
   "outputs": [
    {
     "name": "stdout",
     "output_type": "stream",
     "text": [
      "-5.89504728071e-06\n",
      "0.0908443021264\n",
      "0.206902659139\n",
      "0.330447429145\n",
      "0.460917666377\n"
     ]
    },
    {
     "data": {
      "text/plain": [
       "[<matplotlib.lines.Line2D at 0x7f020edc5a20>]"
      ]
     },
     "execution_count": 46,
     "metadata": {},
     "output_type": "execute_result"
    },
    {
     "data": {
      "image/png": "[encoded data removed]",
      "text/plain": [
       "<matplotlib.figure.Figure at 0x7f020c958b00>"
      ]
     },
     "metadata": {},
     "output_type": "display_data"
    }
   ],
   "source": [
    "deflections = run_solver([1e6, 1e7, 1e8, 1e7, 1e6])\n",
    "\n",
    "print(deflections[0])\n",
    "print(deflections[100])\n",
    "print(deflections[200])\n",
    "print(deflections[300])\n",
    "print(deflections[400])\n",
    "\n",
    "import matplotlib.pyplot as plt\n",
    "plt.plot(-deflections)"
   ]
  },
  {
   "cell_type": "markdown",
   "metadata": {},
   "source": [
    "# Heuristics"
   ]
  },
  {
   "cell_type": "code",
   "execution_count": 47,
   "metadata": {},
   "outputs": [
    {
     "name": "stdout",
     "output_type": "stream",
     "text": [
      "Fitness = 0.00702864769683\n"
     ]
    }
   ],
   "source": [
    "# Presolved target\n",
    "def get_fitness_wrapper(moduli):\n",
    "    target = [0, 0.09, 0.20, 0.33, 0.46]\n",
    "    \n",
    "    return get_fitness(moduli, target)\n",
    "\n",
    "fitness = get_fitness_wrapper([1e6, 1e7, 1e8, 1e7, 1e6])\n",
    "print(\"Fitness =\", fitness)"
   ]
  },
  {
   "cell_type": "markdown",
   "metadata": {},
   "source": [
    "### SciPy heuristics"
   ]
  },
  {
   "cell_type": "code",
   "execution_count": 54,
   "metadata": {},
   "outputs": [],
   "source": [
    "import scipy.optimize\n",
    "\n",
    "bounds = [(1e6, 1e8), (1e6, 1e8), (1e6, 1e8), (1e6, 1e8), (1e6, 1e8)]\n",
    "bounds_tuple = ((1e6, 1e8), (1e6, 1e8), (1e6, 1e8), (1e6, 1e8), (1e6, 1e8))\n",
    "\n",
    "np.set_printoptions(formatter={'float': lambda x: format(x, '.2E')})"
   ]
  },
  {
   "cell_type": "markdown",
   "metadata": {},
   "source": [
    "#### Differential evolution"
   ]
  },
  {
   "cell_type": "code",
   "execution_count": 57,
   "metadata": {},
   "outputs": [
    {
     "name": "stdout",
     "output_type": "stream",
     "text": [
      "Solution = [1.08E+06 7.68E+06 5.01E+06 5.74E+07 1.97E+07]\n",
      "Objective function (min) = 0.0189115978951\n",
      "Function evaluations = 897\n"
     ]
    }
   ],
   "source": [
    "solution = scipy.optimize.differential_evolution(get_fitness_wrapper, bounds, maxiter=10, popsize=15)\n",
    "\n",
    "print(\"Solution =\", solution.x)\n",
    "print(\"Objective function (min) =\", solution.fun)\n",
    "print(\"Function evaluations =\", solution.nfev)"
   ]
  },
  {
   "cell_type": "markdown",
   "metadata": {},
   "source": [
    "#### Basin hopping"
   ]
  },
  {
   "cell_type": "code",
   "execution_count": null,
   "metadata": {},
   "outputs": [],
   "source": [
    "# ???\n",
    "solution = scipy.optimize.basinhopping(get_fitness_wrapper, x0 = [1e7, 1e7, 1e7, 1e7, 1e7], niter=3, T= 0.1, stepsize= 1e7)\n",
    "\n",
    "print(\"Solution =\", solution.x)\n",
    "print(\"Objective function (min) =\", solution.fun)\n",
    "print(\"Function evaluations =\", solution.nfev)"
   ]
  },
  {
   "cell_type": "markdown",
   "metadata": {},
   "source": [
    "#### Brute force"
   ]
  },
  {
   "cell_type": "code",
   "execution_count": 55,
   "metadata": {},
   "outputs": [
    {
     "name": "stdout",
     "output_type": "stream",
     "text": [
      "Solution = [1.00E+06 3.40E+07 3.40E+07 1.00E+06 1.00E+08]\n",
      "Objective function (min) = 0.00431771909604\n",
      "Function evaluations = 1024\n"
     ]
    }
   ],
   "source": [
    "gridpoints = 4\n",
    "\n",
    "solution = scipy.optimize.brute(get_fitness_wrapper, ranges = bounds_tuple, Ns = gridpoints, full_output=True, finish=None)\n",
    "\n",
    "print(\"Solution =\", solution[0])\n",
    "print(\"Objective function (min) =\", solution[1])\n",
    "print(\"Function evaluations =\", gridpoints**5)"
   ]
  },
  {
   "cell_type": "markdown",
   "metadata": {},
   "source": [
    "### DEAP heuristics"
   ]
  },
  {
   "cell_type": "code",
   "execution_count": null,
   "metadata": {},
   "outputs": [],
   "source": [
    "!pip install deap"
   ]
  },
  {
   "cell_type": "code",
   "execution_count": 75,
   "metadata": {
    "scrolled": false
   },
   "outputs": [
    {
     "name": "stderr",
     "output_type": "stream",
     "text": [
      "/home/nbuser/anaconda3_501/lib/python3.6/site-packages/deap/creator.py:141: RuntimeWarning: A class named 'FitnessMin' has already been created and it will be overwritten. Consider deleting previous creation of that class or rename it.\n",
      "  RuntimeWarning)\n",
      "/home/nbuser/anaconda3_501/lib/python3.6/site-packages/deap/creator.py:141: RuntimeWarning: A class named 'Individual' has already been created and it will be overwritten. Consider deleting previous creation of that class or rename it.\n",
      "  RuntimeWarning)\n"
     ]
    },
    {
     "name": "stdout",
     "output_type": "stream",
     "text": [
      "gen\tnevals\tavg     \tstd        \tmin     \tmax     \n",
      "0  \t15    \t0.564619\t0.0473579  \t0.415095\t0.592952\n",
      "1  \t1     \t0.53086 \t0.0632693  \t0.415095\t0.585933\n",
      "2  \t12    \t0.494846\t0.0697239  \t0.361255\t0.592785\n",
      "3  \t9     \t0.430488\t0.0524562  \t0.361255\t0.54414 \n",
      "4  \t9     \t0.393603\t0.0253354  \t0.361255\t0.415806\n",
      "5  \t7     \t0.386152\t0.0251722  \t0.361255\t0.414957\n",
      "6  \t3     \t0.369162\t0.0170733  \t0.361255\t0.412575\n",
      "7  \t6     \t0.364806\t0.0127761  \t0.361255\t0.412575\n",
      "8  \t6     \t0.358829\t0.0095979  \t0.322962\t0.363196\n",
      "9  \t6     \t0.353591\t0.0153141  \t0.322962\t0.361255\n",
      "10 \t9     \t0.343384\t0.0190933  \t0.322962\t0.361255\n",
      "11 \t12    \t0.330624\t0.0152926  \t0.322948\t0.361209\n",
      "12 \t10    \t0.334124\t0.0412554  \t0.322948\t0.488478\n",
      "13 \t9     \t0.322941\t5.29845e-05\t0.322745\t0.322962\n",
      "14 \t11    \t0.322887\t0.000183055\t0.322229\t0.322948\n",
      "15 \t9     \t0.323203\t0.0018556  \t0.322229\t0.330052\n",
      "16 \t8     \t0.324927\t0.00915387 \t0.322229\t0.359165\n",
      "17 \t5     \t0.322304\t0.000224512\t0.322229\t0.323113\n",
      "18 \t6     \t0.334025\t0.0440712  \t0.322229\t0.498924\n",
      "19 \t9     \t0.336337\t0.0525423  \t0.322229\t0.532931\n",
      "20 \t8     \t0.322229\t5.55112e-17\t0.322229\t0.322229\n",
      "21 \t9     \t0.332462\t0.0378291  \t0.322229\t0.473997\n",
      "22 \t8     \t0.329687\t0.0274847  \t0.322229\t0.432521\n",
      "23 \t8     \t0.322229\t5.55112e-17\t0.322229\t0.322229\n",
      "24 \t7     \t0.322229\t5.55112e-17\t0.322229\t0.322229\n",
      "25 \t8     \t0.322191\t0.000162927\t0.321586\t0.322307\n",
      "26 \t12    \t0.321972\t0.00031496 \t0.321586\t0.322229\n",
      "27 \t12    \t0.321712\t0.000305984\t0.321455\t0.322359\n",
      "28 \t6     \t0.321594\t0.000226519\t0.321414\t0.322229\n",
      "29 \t10    \t0.321527\t0.000167605\t0.321414\t0.322112\n",
      "30 \t4     \t0.321458\t3.67824e-05\t0.321414\t0.321586\n",
      "31 \t9     \t0.338147\t0.0625419  \t0.321414\t0.572157\n",
      "32 \t11    \t0.348066\t0.0705242  \t0.321204\t0.572716\n",
      "33 \t9     \t0.321372\t8.40978e-05\t0.321204\t0.321414\n",
      "34 \t10    \t0.337206\t0.045435   \t0.321204\t0.497628\n",
      "35 \t3     \t0.321334\t9.89703e-05\t0.321204\t0.321414\n",
      "36 \t9     \t0.321309\t0.000254587\t0.321204\t0.322224\n",
      "37 \t12    \t0.320832\t0.00139247 \t0.315622\t0.321204\n",
      "38 \t9     \t0.319072\t0.00263581 \t0.315622\t0.321204\n",
      "39 \t5     \t0.317773\t0.00273121 \t0.314962\t0.321204\n",
      "40 \t10    \t0.344389\t0.0740718  \t0.314962\t0.568007\n",
      "41 \t11    \t0.328099\t0.0484829  \t0.313516\t0.509494\n",
      "42 \t5     \t0.318528\t0.0149401  \t0.313516\t0.374355\n",
      "43 \t8     \t0.324436\t0.0404794  \t0.309271\t0.475815\n",
      "44 \t13    \t0.330721\t0.0677758  \t0.309271\t0.584194\n",
      "45 \t9     \t0.380076\t0.221663   \t0.309229\t1.19648 \n",
      "46 \t5     \t0.309453\t0.000673197\t0.309229\t0.311969\n",
      "47 \t9     \t0.322962\t0.0785894  \t0.160515\t0.560946\n",
      "48 \t5     \t0.279492\t0.0594883  \t0.160515\t0.309271\n",
      "49 \t7     \t0.261226\t0.0714459  \t0.160515\t0.332751\n",
      "50 \t7     \t0.170429\t0.0370957  \t0.160515\t0.309229\n",
      "51 \t10    \t0.171899\t0.0426969  \t0.160133\t0.331656\n",
      "52 \t7     \t0.1607  \t0.00100994 \t0.160133\t0.164436\n",
      "53 \t8     \t0.160311\t0.000190726\t0.160133\t0.160515\n",
      "54 \t7     \t0.174821\t0.0549593  \t0.160133\t0.38046 \n",
      "55 \t9     \t0.160221\t0.000329713\t0.160133\t0.161455\n",
      "56 \t8     \t0.160133\t0          \t0.160133\t0.160133\n",
      "57 \t11    \t0.193031\t0.0841546  \t0.160133\t0.425684\n",
      "58 \t5     \t0.15891 \t0.00431561 \t0.142789\t0.160133\n",
      "59 \t8     \t0.185412\t0.105079   \t0.142789\t0.577989\n",
      "60 \t7     \t0.168004\t0.0591332  \t0.142789\t0.387224\n",
      "61 \t9     \t0.150552\t0.00831222 \t0.142789\t0.16113 \n",
      "62 \t5     \t0.142789\t0          \t0.142789\t0.142789\n",
      "63 \t4     \t0.142789\t0          \t0.142789\t0.142789\n",
      "64 \t11    \t0.142789\t0          \t0.142789\t0.142789\n",
      "65 \t10    \t0.161989\t0.0587606  \t0.142789\t0.375811\n",
      "66 \t8     \t0.17804 \t0.131895   \t0.142789\t0.671547\n",
      "67 \t9     \t0.183081\t0.131019   \t0.142789\t0.670091\n",
      "68 \t6     \t0.142789\t0          \t0.142789\t0.142789\n",
      "69 \t7     \t0.158746\t0.059704   \t0.142789\t0.382138\n",
      "70 \t11    \t0.167982\t0.0642581  \t0.142789\t0.337049\n",
      "71 \t4     \t0.15792 \t0.056614   \t0.142789\t0.36975 \n",
      "72 \t4     \t0.162481\t0.0557864  \t0.142789\t0.357091\n",
      "73 \t10    \t0.142789\t0          \t0.142789\t0.142789\n",
      "74 \t9     \t0.158028\t0.0570167  \t0.142789\t0.371365\n",
      "75 \t10    \t0.143713\t0.00345609 \t0.142789\t0.156644\n",
      "76 \t4     \t0.142789\t0          \t0.142789\t0.142789\n",
      "77 \t8     \t0.292124\t0.55876    \t0.142789\t2.38281 \n",
      "78 \t9     \t0.142789\t0          \t0.142789\t0.142789\n",
      "79 \t10    \t0.157453\t0.0519561  \t0.142789\t0.351577\n",
      "80 \t10    \t0.17276 \t0.112141   \t0.142789\t0.592353\n",
      "81 \t7     \t0.160309\t0.0447853  \t0.142789\t0.283069\n",
      "82 \t7     \t0.142789\t0          \t0.142789\t0.142789\n",
      "83 \t11    \t0.231352\t0.214472   \t0.142789\t0.967832\n",
      "84 \t5     \t0.156509\t0.0513354  \t0.142789\t0.348589\n",
      "85 \t9     \t0.142789\t0          \t0.142789\t0.142789\n",
      "86 \t5     \t0.142789\t0          \t0.142789\t0.142789\n",
      "87 \t9     \t0.142789\t0          \t0.142789\t0.142789\n",
      "88 \t7     \t0.162973\t0.0755224  \t0.142789\t0.445552\n",
      "89 \t5     \t0.144008\t0.00456092 \t0.142789\t0.161074\n",
      "90 \t11    \t0.178985\t0.100742   \t0.142789\t0.524926\n",
      "91 \t6     \t0.158443\t0.0585722  \t0.142789\t0.3776  \n",
      "92 \t8     \t0.171154\t0.0726977  \t0.142789\t0.375895\n",
      "93 \t8     \t0.14303 \t0.00090228 \t0.142789\t0.146406\n",
      "94 \t8     \t0.152334\t0.0313354  \t0.142789\t0.26844 \n",
      "95 \t7     \t0.152421\t0.0360391  \t0.142789\t0.287267\n",
      "96 \t7     \t0.142789\t0          \t0.142789\t0.142789\n",
      "97 \t8     \t0.142789\t0          \t0.142789\t0.142789\n",
      "98 \t9     \t0.220321\t0.290097   \t0.142789\t1.30576 \n",
      "99 \t7     \t0.144064\t0.00477009 \t0.142789\t0.161912\n",
      "100\t6     \t0.143632\t0.00315171 \t0.142789\t0.155424\n"
     ]
    }
   ],
   "source": [
    "import array\n",
    "import random\n",
    "\n",
    "import numpy\n",
    "\n",
    "from deap import algorithms\n",
    "from deap import base\n",
    "from deap import creator\n",
    "from deap import tools\n",
    "\n",
    "creator.create(\"FitnessMin\", base.Fitness, weights=(-1.0,))\n",
    "creator.create(\"Individual\", array.array, typecode='d', fitness=creator.FitnessMin)\n",
    "\n",
    "toolbox = base.Toolbox()\n",
    "\n",
    "toolbox.register(\"attr_float\", random.uniform, 1e6, 1e8)\n",
    "\n",
    "# Structure initializers\n",
    "toolbox.register(\"individual\", tools.initRepeat, creator.Individual, toolbox.attr_float, 5)\n",
    "toolbox.register(\"population\", tools.initRepeat, list, toolbox.individual)\n",
    "\n",
    "def evalOneMax(individual):\n",
    "    return get_fitness_wrapper(individual),\n",
    "\n",
    "toolbox.register(\"evaluate\", evalOneMax)\n",
    "toolbox.register(\"mate\", tools.cxTwoPoint)\n",
    "toolbox.register(\"mutate\", tools.mutGaussian, mu=0, sigma=1e7, indpb=0.1)\n",
    "toolbox.register(\"select\", tools.selTournament, tournsize=3)\n",
    "    \n",
    "pop = toolbox.population(n=15)\n",
    "hof = tools.HallOfFame(1)\n",
    "stats = tools.Statistics(lambda ind: ind.fitness.values)\n",
    "stats.register(\"avg\", numpy.mean)\n",
    "stats.register(\"std\", numpy.std)\n",
    "stats.register(\"min\", numpy.min)\n",
    "stats.register(\"max\", numpy.max)\n",
    "\n",
    "pop, log = algorithms.eaSimple(pop, toolbox, cxpb=0.5, mutpb=0.2, ngen=100, \n",
    "                               stats=stats, halloffame=hof, verbose=False)\n",
    "\n",
    "print(log)"
   ]
  },
  {
   "cell_type": "code",
   "execution_count": null,
   "metadata": {},
   "outputs": [],
   "source": []
  }
 ],
 "metadata": {
  "kernelspec": {
   "display_name": "Python 3.6",
   "language": "python",
   "name": "python36"
  },
  "language_info": {
   "codemirror_mode": {
    "name": "ipython",
    "version": 3
   },
   "file_extension": ".py",
   "mimetype": "text/x-python",
   "name": "python",
   "nbconvert_exporter": "python",
   "pygments_lexer": "ipython3",
   "version": "3.6.3"
  }
 },
 "nbformat": 4,
 "nbformat_minor": 2
}
