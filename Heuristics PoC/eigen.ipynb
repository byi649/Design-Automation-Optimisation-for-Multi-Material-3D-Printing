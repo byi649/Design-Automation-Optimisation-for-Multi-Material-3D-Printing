{
 "cells": [
  {
   "cell_type": "code",
   "execution_count": null,
   "metadata": {},
   "outputs": [],
   "source": [
    "!conda config --add channels conda-forge\n",
    "!conda install -y fenics"
   ]
  },
  {
   "cell_type": "markdown",
   "metadata": {},
   "source": [
    "# Eigenvalue solver"
   ]
  },
  {
   "cell_type": "code",
   "execution_count": null,
   "metadata": {},
   "outputs": [],
   "source": [
    "from fenics import *\n",
    "from dolfin import *\n",
    "import math\n",
    "import numpy as np\n",
    "    \n",
    "moduli = [70e9]    \n",
    "\n",
    "# Create n different materials\n",
    "class K(Expression):\n",
    "    def set_k_values(self, k_array):\n",
    "        self.k_array = k_array\n",
    "    def eval(self, value, x):\n",
    "        # Cantilever is split into n materials serially along length\n",
    "        index = math.floor(x[0]*len(self.k_array))\n",
    "        value[0] = self.k_array[int(index)]\n",
    "\n",
    "# Initialize kappa\n",
    "kappa = K(degree=0)\n",
    "kappa.set_k_values(moduli)\n",
    "\n",
    "# Scaled variables\n",
    "L = 1 # Length\n",
    "W = 0.02 # Width\n",
    "\n",
    "Young = kappa\n",
    "poisson = 0.3\n",
    "\n",
    "lambda_ = Young * poisson / ((1 + poisson) * (1 - 2*poisson))\n",
    "mu = Young / (2 * (1 + poisson))\n",
    "\n",
    "rho = 2700\n",
    "\n",
    "# Create mesh and define function space\n",
    "mesh = BoxMesh(Point(0, 0, 0), Point(L, W, W), 100, 3, 3)\n",
    "V = VectorFunctionSpace(mesh, 'P', 1)\n",
    "\n",
    "# Define boundary condition\n",
    "tol = 1E-14\n",
    "\n",
    "def clamped_boundary(x, on_boundary):\n",
    "    return on_boundary and x[0] < tol\n",
    "\n",
    "bc = DirichletBC(V, Constant((0, 0, 0)), clamped_boundary)\n",
    "\n",
    "# Define strain and stress\n",
    "def epsilon(u):\n",
    "    return 0.5*(nabla_grad(u) + nabla_grad(u).T)\n",
    "    #return sym(nabla_grad(u))\n",
    "\n",
    "def sigma(u):\n",
    "    return lambda_*nabla_div(u)*Identity(d) + 2*mu*epsilon(u)\n",
    "\n",
    "# Define variational problem\n",
    "u = TrialFunction(V)\n",
    "d = u.geometric_dimension()  # space dimension\n",
    "v = TestFunction(V)\n",
    "#f = Constant((0, 0, -rho*g))\n",
    "T = Constant((0, 0, 0))\n",
    "a = inner(sigma(u), epsilon(v))*dx\n",
    "#L = dot(f, v)*dx + dot(T, v)*ds\n",
    "\n",
    "# Assemble stiffness form\n",
    "A = PETScMatrix()\n",
    "assemble(a, tensor=A)\n",
    "\n",
    "# Create eigensolver\n",
    "eigensolver = SLEPcEigenSolver(A)\n",
    "\n",
    "# Compute all eigenvalues of A x = \\lambda x\n",
    "print(\"Computing eigenvalues. This can take a minute.\")\n",
    "eigensolver.parameters['spectrum'] = 'smallest magnitude'\n",
    "eigensolver.solve(15)\n",
    "eigensolver.get_number_converged()\n",
    "\n",
    "# Extract largest (first) eigenpair\n",
    "eigens = []\n",
    "for i in range(15):\n",
    "    eigens.append(eigensolver.get_eigenpair(i))\n",
    "    \n",
    "for i in range(len(eigens)):\n",
    "    print(\"Eigenvalue\", i, \": \", eigens[i][0], \" | Frequency\", i, \": \", np.sqrt(eigens[i][0]))"
   ]
  },
  {
   "cell_type": "markdown",
   "metadata": {},
   "source": [
    "# Displacement"
   ]
  },
  {
   "cell_type": "code",
   "execution_count": 20,
   "metadata": {},
   "outputs": [],
   "source": [
    "\"\"\"\n",
    "FEniCS tutorial demo program: Linear elastic problem.\n",
    "\n",
    "  -div(sigma(u)) = f\n",
    "\n",
    "The model is used to simulate an elastic beam clamped at\n",
    "its left end and deformed under its own weight.\n",
    "\"\"\"\n",
    "\n",
    "from fenics import *\n",
    "from dolfin import *\n",
    "import math\n",
    "import numpy as np\n",
    "\n",
    "def run_solver(moduli):\n",
    "    \n",
    "    # Create n different materials\n",
    "    class K(Expression):\n",
    "        def set_k_values(self, k_array):\n",
    "            self.k_array = k_array\n",
    "        def eval(self, value, x):\n",
    "            # Cantilever is split into n materials serially along length\n",
    "            index = math.floor(x[0]*len(self.k_array))\n",
    "            value[0] = self.k_array[int(index)]\n",
    "            \n",
    "    # Initialize kappa\n",
    "    kappa = K(degree=0)\n",
    "    kappa.set_k_values(moduli)\n",
    "    \n",
    "    # Scaled variables\n",
    "    L = 1 # Length\n",
    "    W = 0.2 # Width\n",
    "    \n",
    "    Young = kappa\n",
    "    poisson = 0.3\n",
    "    \n",
    "    lambda_ = Young * poisson / ((1 + poisson) * (1 - 2*poisson))\n",
    "    mu = Young / (2 * (1 + poisson))\n",
    "    \n",
    "    rho = 2.7e3\n",
    "    g = 9.8\n",
    "    \n",
    "    # Create mesh and define function space\n",
    "    mesh = BoxMesh(Point(0, 0, 0), Point(L, W, W), 100, 3, 3)\n",
    "    V = VectorFunctionSpace(mesh, 'P', 1)\n",
    "    \n",
    "    # Define boundary condition\n",
    "    tol = 1E-14\n",
    "    \n",
    "    def clamped_boundary(x, on_boundary):\n",
    "        return on_boundary and x[0] < tol\n",
    "    \n",
    "    bc = DirichletBC(V, Constant((0, 0, 0)), clamped_boundary)\n",
    "    \n",
    "    # Define strain and stress\n",
    "    def epsilon(u):\n",
    "        return 0.5*(nabla_grad(u) + nabla_grad(u).T)\n",
    "        #return sym(nabla_grad(u))\n",
    "    \n",
    "    def sigma(u):\n",
    "        return lambda_*nabla_div(u)*Identity(d) + 2*mu*epsilon(u)\n",
    "    \n",
    "    # Define variational problem\n",
    "    u = TrialFunction(V)\n",
    "    d = u.geometric_dimension()  # space dimension\n",
    "    v = TestFunction(V)\n",
    "    f = Constant((0, 0, -rho*g))\n",
    "    T = Constant((0, 0, 0))\n",
    "    a = inner(sigma(u), epsilon(v))*dx\n",
    "    L = dot(f, v)*dx + dot(T, v)*ds\n",
    "    \n",
    "    # Compute solution\n",
    "    u = Function(V)\n",
    "    solve(a == L, u, bc)\n",
    "    \n",
    "    # Save solution\n",
    "    #vtkfile = File('poisson/solution.pvd')\n",
    "    #vtkfile << u\n",
    "    \n",
    "    # Compute magnitude of displacement\n",
    "    V = FunctionSpace(mesh, 'P', 1)\n",
    "    u_magnitude = sqrt(dot(u, u))\n",
    "    u_magnitude = project(u_magnitude, V)\n",
    "    #plot(u_magnitude, 'Displacement magnitude')\n",
    "    #print('min/max u:',\n",
    "    #      u_magnitude.vector().get_local().min(),\n",
    "    #      u_magnitude.vector().get_local().max())\n",
    "    #import matplotlib\n",
    "    vertical = u_magnitude.vector().get_local()[::4]\n",
    "    #matplotlib.pyplot.plot(-vertical)\n",
    "    \n",
    "    return vertical\n",
    "\n",
    "\n",
    "def get_fitness(moduli, target):\n",
    "    deflections = run_solver(moduli)\n",
    "    interestPoints = [deflections[0], deflections[100], deflections[200], deflections[300], deflections[400]]\n",
    "    differences = np.subtract(interestPoints, target)\n",
    "    fitness = np.linalg.norm(differences)\n",
    "    \n",
    "    return fitness"
   ]
  },
  {
   "cell_type": "code",
   "execution_count": 5,
   "metadata": {},
   "outputs": [
    {
     "name": "stdout",
     "output_type": "stream",
     "text": [
      "Calling FFC just-in-time (JIT) compiler, this may take some time.\n",
      "Calling FFC just-in-time (JIT) compiler, this may take some time.\n",
      "Calling FFC just-in-time (JIT) compiler, this may take some time.\n",
      "Calling FFC just-in-time (JIT) compiler, this may take some time.\n",
      "Calling FFC just-in-time (JIT) compiler, this may take some time.\n",
      "-5.89504728071e-06\n",
      "0.0908443021264\n",
      "0.206902659139\n",
      "0.330447429145\n",
      "0.460917666377\n"
     ]
    },
    {
     "data": {
      "text/plain": [
       "[<matplotlib.lines.Line2D at 0x7fc0c1150898>]"
      ]
     },
     "execution_count": 5,
     "metadata": {},
     "output_type": "execute_result"
    }
   ],
   "source": [
    "deflections = run_solver([1e6, 1e7, 1e8, 1e7, 1e6])\n",
    "\n",
    "print(deflections[0])\n",
    "print(deflections[100])\n",
    "print(deflections[200])\n",
    "print(deflections[300])\n",
    "print(deflections[400])\n",
    "\n",
    "import matplotlib.pyplot as plt\n",
    "plt.plot(-deflections)"
   ]
  },
  {
   "cell_type": "markdown",
   "metadata": {},
   "source": [
    "#### Displacement (binary material)"
   ]
  },
  {
   "cell_type": "code",
   "execution_count": 11,
   "metadata": {},
   "outputs": [],
   "source": [
    "\"\"\"\n",
    "FEniCS tutorial demo program: Linear elastic problem.\n",
    "\n",
    "  -div(sigma(u)) = f\n",
    "\n",
    "The model is used to simulate an elastic beam clamped at\n",
    "its left end and deformed under its own weight.\n",
    "\"\"\"\n",
    "\n",
    "from fenics import *\n",
    "from dolfin import *\n",
    "import math\n",
    "import numpy as np\n",
    "\n",
    "def run_solver_binary(moduli):\n",
    "    \n",
    "    moduli_array = [1e6, 1e8]\n",
    "    \n",
    "    # Create n different materials\n",
    "    class K(Expression):\n",
    "        def set_k_values(self, k_array):\n",
    "            self.k_array = k_array\n",
    "        def eval(self, value, x):\n",
    "            # Cantilever is split into n materials serially along length\n",
    "            index = math.floor(x[0]*len(self.k_array))\n",
    "            value[0] = self.k_array[int(index)]\n",
    "            \n",
    "    # Initialize kappa\n",
    "    kappa = K(degree=0)\n",
    "    kappa.set_k_values([moduli_array[x] for x in moduli])\n",
    "    \n",
    "    # Scaled variables\n",
    "    L = 1 # Length\n",
    "    W = 0.2 # Width\n",
    "    \n",
    "    Young = kappa\n",
    "    poisson = 0.3\n",
    "    \n",
    "    lambda_ = Young * poisson / ((1 + poisson) * (1 - 2*poisson))\n",
    "    mu = Young / (2 * (1 + poisson))\n",
    "    \n",
    "    rho = 2.7e3\n",
    "    g = 9.8\n",
    "    \n",
    "    # Create mesh and define function space\n",
    "    mesh = BoxMesh(Point(0, 0, 0), Point(L, W, W), 100, 3, 3)\n",
    "    V = VectorFunctionSpace(mesh, 'P', 1)\n",
    "    \n",
    "    # Define boundary condition\n",
    "    tol = 1E-14\n",
    "    \n",
    "    def clamped_boundary(x, on_boundary):\n",
    "        return on_boundary and x[0] < tol\n",
    "    \n",
    "    bc = DirichletBC(V, Constant((0, 0, 0)), clamped_boundary)\n",
    "    \n",
    "    # Define strain and stress\n",
    "    def epsilon(u):\n",
    "        return 0.5*(nabla_grad(u) + nabla_grad(u).T)\n",
    "        #return sym(nabla_grad(u))\n",
    "    \n",
    "    def sigma(u):\n",
    "        return lambda_*nabla_div(u)*Identity(d) + 2*mu*epsilon(u)\n",
    "    \n",
    "    # Define variational problem\n",
    "    u = TrialFunction(V)\n",
    "    d = u.geometric_dimension()  # space dimension\n",
    "    v = TestFunction(V)\n",
    "    f = Constant((0, 0, -rho*g))\n",
    "    T = Constant((0, 0, 0))\n",
    "    a = inner(sigma(u), epsilon(v))*dx\n",
    "    L = dot(f, v)*dx + dot(T, v)*ds\n",
    "    \n",
    "    # Compute solution\n",
    "    u = Function(V)\n",
    "    solve(a == L, u, bc)\n",
    "    \n",
    "    # Save solution\n",
    "    #vtkfile = File('poisson/solution.pvd')\n",
    "    #vtkfile << u\n",
    "    \n",
    "    # Compute magnitude of displacement\n",
    "    V = FunctionSpace(mesh, 'P', 1)\n",
    "    u_magnitude = sqrt(dot(u, u))\n",
    "    u_magnitude = project(u_magnitude, V)\n",
    "    #plot(u_magnitude, 'Displacement magnitude')\n",
    "    #print('min/max u:',\n",
    "    #      u_magnitude.vector().get_local().min(),\n",
    "    #      u_magnitude.vector().get_local().max())\n",
    "    #import matplotlib\n",
    "    vertical = u_magnitude.vector().get_local()[::4]\n",
    "    #matplotlib.pyplot.plot(-vertical)\n",
    "    \n",
    "    return vertical\n",
    "\n",
    "\n",
    "def get_fitness_binary(moduli, target):\n",
    "    deflections = run_solver_binary(moduli)\n",
    "    interestPoints = [deflections[0], deflections[100], deflections[200], deflections[300], deflections[400]]\n",
    "    differences = np.subtract(interestPoints, target)\n",
    "    fitness = np.linalg.norm(differences)\n",
    "    \n",
    "    return fitness"
   ]
  },
  {
   "cell_type": "code",
   "execution_count": 40,
   "metadata": {},
   "outputs": [
    {
     "name": "stdout",
     "output_type": "stream",
     "text": [
      "-5.99702377642e-08\n",
      "0.000999417416962\n",
      "0.0563692217035\n",
      "0.148797269843\n",
      "0.249195328154\n"
     ]
    },
    {
     "data": {
      "text/plain": [
       "[<matplotlib.lines.Line2D at 0x7fc0c32c8208>]"
      ]
     },
     "execution_count": 40,
     "metadata": {},
     "output_type": "execute_result"
    },
    {
     "data": {
      "image/png": "[encoded data removed]",
      "text/plain": [
       "<matplotlib.figure.Figure at 0x7fc0c3349080>"
      ]
     },
     "metadata": {},
     "output_type": "display_data"
    }
   ],
   "source": [
    "deflections = run_solver([1, 0, 0, 1])\n",
    "\n",
    "print(deflections[0])\n",
    "print(deflections[100])\n",
    "print(deflections[200])\n",
    "print(deflections[300])\n",
    "print(deflections[400])\n",
    "\n",
    "import matplotlib.pyplot as plt\n",
    "plt.plot(-deflections)"
   ]
  },
  {
   "cell_type": "markdown",
   "metadata": {},
   "source": [
    "# Heuristics"
   ]
  },
  {
   "cell_type": "code",
   "execution_count": 14,
   "metadata": {},
   "outputs": [
    {
     "name": "stdout",
     "output_type": "stream",
     "text": [
      "Calling FFC just-in-time (JIT) compiler, this may take some time.\n",
      "Calling FFC just-in-time (JIT) compiler, this may take some time.\n",
      "Calling FFC just-in-time (JIT) compiler, this may take some time.\n",
      "Calling FFC just-in-time (JIT) compiler, this may take some time.\n",
      "Calling FFC just-in-time (JIT) compiler, this may take some time.\n",
      "Time taken = 5.366480827331543 seconds\n",
      "Fitness = 0.00702864769683\n"
     ]
    }
   ],
   "source": [
    "# Presolved target\n",
    "def get_fitness_wrapper(moduli):\n",
    "    target = [0, 0.09, 0.20, 0.33, 0.46]\n",
    "    \n",
    "    return get_fitness(moduli, target)\n",
    "\n",
    "# Presolved target\n",
    "def get_fitness_wrapper_binary(moduli):\n",
    "    target = [0, 0.09, 0.20, 0.33, 0.46]\n",
    "    \n",
    "    return get_fitness_binary(moduli, target)\n",
    "\n",
    "import time\n",
    "start = time.time()\n",
    "fitness = get_fitness_wrapper([1e6, 1e7, 1e8, 1e7, 1e6])\n",
    "end = time.time()\n",
    "print(\"Time taken =\", end - start, \"seconds\")\n",
    "\n",
    "print(\"Fitness =\", fitness)"
   ]
  },
  {
   "cell_type": "markdown",
   "metadata": {},
   "source": [
    "### SciPy heuristics"
   ]
  },
  {
   "cell_type": "code",
   "execution_count": 15,
   "metadata": {},
   "outputs": [],
   "source": [
    "import scipy.optimize\n",
    "\n",
    "bounds = [(1e6, 1e8), (1e6, 1e8), (1e6, 1e8), (1e6, 1e8), (1e6, 1e8)]\n",
    "bounds_tuple = ((1e6, 1e8), (1e6, 1e8), (1e6, 1e8), (1e6, 1e8), (1e6, 1e8))\n",
    "\n",
    "np.set_printoptions(formatter={'float': lambda x: format(x, '.2E')})"
   ]
  },
  {
   "cell_type": "markdown",
   "metadata": {},
   "source": [
    "#### Differential evolution"
   ]
  },
  {
   "cell_type": "code",
   "execution_count": 57,
   "metadata": {},
   "outputs": [
    {
     "name": "stdout",
     "output_type": "stream",
     "text": [
      "Solution = [1.08E+06 7.68E+06 5.01E+06 5.74E+07 1.97E+07]\n",
      "Objective function (min) = 0.0189115978951\n",
      "Function evaluations = 897\n"
     ]
    }
   ],
   "source": [
    "solution = scipy.optimize.differential_evolution(get_fitness_wrapper, bounds, maxiter=10, popsize=15)\n",
    "\n",
    "print(\"Solution =\", solution.x)\n",
    "print(\"Objective function (min) =\", solution.fun)\n",
    "print(\"Function evaluations =\", solution.nfev)"
   ]
  },
  {
   "cell_type": "markdown",
   "metadata": {},
   "source": [
    "#### Basin hopping"
   ]
  },
  {
   "cell_type": "code",
   "execution_count": null,
   "metadata": {},
   "outputs": [],
   "source": [
    "# ???\n",
    "solution = scipy.optimize.basinhopping(get_fitness_wrapper, x0 = [1e7, 1e7, 1e7, 1e7, 1e7], niter=3, T= 0.1, stepsize= 1e6)\n",
    "\n",
    "print(\"Solution =\", solution.x)\n",
    "print(\"Objective function (min) =\", solution.fun)\n",
    "print(\"Function evaluations =\", solution.nfev)"
   ]
  },
  {
   "cell_type": "markdown",
   "metadata": {},
   "source": [
    "#### Brute force"
   ]
  },
  {
   "cell_type": "code",
   "execution_count": 55,
   "metadata": {},
   "outputs": [
    {
     "name": "stdout",
     "output_type": "stream",
     "text": [
      "Solution = [1.00E+06 3.40E+07 3.40E+07 1.00E+06 1.00E+08]\n",
      "Objective function (min) = 0.00431771909604\n",
      "Function evaluations = 1024\n"
     ]
    }
   ],
   "source": [
    "gridpoints = 4\n",
    "\n",
    "solution = scipy.optimize.brute(get_fitness_wrapper, ranges = bounds_tuple, Ns = gridpoints, full_output=True, finish=None)\n",
    "\n",
    "print(\"Solution =\", solution[0])\n",
    "print(\"Objective function (min) =\", solution[1])\n",
    "print(\"Function evaluations =\", gridpoints**5)"
   ]
  },
  {
   "cell_type": "markdown",
   "metadata": {},
   "source": [
    "### DEAP heuristics"
   ]
  },
  {
   "cell_type": "code",
   "execution_count": null,
   "metadata": {},
   "outputs": [],
   "source": [
    "!pip install deap"
   ]
  },
  {
   "cell_type": "code",
   "execution_count": 21,
   "metadata": {
    "scrolled": false
   },
   "outputs": [
    {
     "name": "stderr",
     "output_type": "stream",
     "text": [
      "/home/nbuser/anaconda3_501/lib/python3.6/site-packages/deap/creator.py:141: RuntimeWarning: A class named 'FitnessMin' has already been created and it will be overwritten. Consider deleting previous creation of that class or rename it.\n",
      "  RuntimeWarning)\n",
      "/home/nbuser/anaconda3_501/lib/python3.6/site-packages/deap/creator.py:141: RuntimeWarning: A class named 'Individual' has already been created and it will be overwritten. Consider deleting previous creation of that class or rename it.\n",
      "  RuntimeWarning)\n"
     ]
    },
    {
     "name": "stdout",
     "output_type": "stream",
     "text": [
      "gen\tnevals\tavg      \tstd        \tmin      \tmax      \n",
      "0  \t15    \t0.558998 \t0.0344194  \t0.452143 \t0.589891 \n",
      "1  \t6     \t0.508059 \t0.0486482  \t0.452135 \t0.573023 \n",
      "2  \t13    \t0.47219  \t0.0469959  \t0.373284 \t0.591114 \n",
      "3  \t9     \t0.431368 \t0.0350395  \t0.373284 \t0.456033 \n",
      "4  \t8     \t0.410056 \t0.0393108  \t0.373284 \t0.452143 \n",
      "5  \t8     \t0.371409 \t0.00559982 \t0.351231 \t0.373284 \n",
      "6  \t11    \t0.369607 \t0.0121503  \t0.351231 \t0.402446 \n",
      "7  \t9     \t0.367135 \t0.0168539  \t0.351231 \t0.40972  \n",
      "8  \t6     \t0.356967 \t0.00821737 \t0.351231 \t0.373284 \n",
      "9  \t8     \t0.351547 \t0.00503392 \t0.339971 \t0.367194 \n",
      "10 \t9     \t0.350481 \t0.00280883 \t0.339971 \t0.351231 \n",
      "11 \t9     \t0.348978 \t0.00450387 \t0.33997  \t0.351231 \n",
      "12 \t7     \t0.342974 \t0.00497893 \t0.33997  \t0.351231 \n",
      "13 \t10    \t0.338896 \t0.00402232 \t0.323845 \t0.339972 \n",
      "14 \t12    \t0.33567  \t0.00713066 \t0.323845 \t0.339971 \n",
      "15 \t8     \t0.330295 \t0.00789939 \t0.323845 \t0.33997  \n",
      "16 \t11    \t0.32618  \t0.00598417 \t0.323795 \t0.342791 \n",
      "17 \t11    \t0.323839 \t1.70466e-05\t0.323795 \t0.323846 \n",
      "18 \t12    \t0.32383  \t2.51936e-05\t0.323795 \t0.323868 \n",
      "19 \t14    \t0.325892 \t0.00775586 \t0.323793 \t0.354912 \n",
      "20 \t10    \t0.324266 \t0.00175839 \t0.323779 \t0.330845 \n",
      "21 \t6     \t0.32379  \t5.67116e-06\t0.323779 \t0.323793 \n",
      "22 \t10    \t0.325631 \t0.00691097 \t0.323779 \t0.351489 \n",
      "23 \t7     \t0.323781 \t5.92673e-06\t0.323775 \t0.323793 \n",
      "24 \t7     \t0.323724 \t0.0134333  \t0.28659  \t0.360163 \n",
      "25 \t8     \t0.315578 \t0.0151615  \t0.28659  \t0.329069 \n",
      "26 \t11    \t0.29213  \t0.0476132  \t0.126121 \t0.323779 \n",
      "27 \t10    \t0.26788  \t0.0567744  \t0.126121 \t0.323775 \n",
      "28 \t9     \t0.200997 \t0.0800482  \t0.126102 \t0.28659  \n",
      "29 \t8     \t0.136815 \t0.0400224  \t0.126102 \t0.286565 \n",
      "30 \t9     \t0.142862 \t0.0626616  \t0.126102 \t0.37732  \n",
      "31 \t11    \t0.130762 \t0.0174188  \t0.126102 \t0.195937 \n",
      "32 \t9     \t0.126102 \t7.76785e-06\t0.126079 \t0.126121 \n",
      "33 \t10    \t0.139893 \t0.0516256  \t0.126079 \t0.333059 \n",
      "34 \t11    \t0.126087 \t1.09716e-05\t0.126079 \t0.126102 \n",
      "35 \t12    \t0.126081 \t5.7321e-06 \t0.126079 \t0.126102 \n",
      "36 \t9     \t0.328845 \t0.741453   \t0.126079 \t3.1028   \n",
      "37 \t9     \t0.129194 \t0.0116548  \t0.126079 \t0.172802 \n",
      "38 \t5     \t0.151664 \t0.0957315  \t0.126066 \t0.509859 \n",
      "39 \t8     \t0.126077 \t4.51997e-06\t0.126066 \t0.126079 \n",
      "40 \t11    \t0.133124 \t0.0263903  \t0.126038 \t0.231868 \n",
      "41 \t4     \t0.120811 \t0.0196508  \t0.0472844\t0.126079 \n",
      "42 \t12    \t0.120797 \t0.0196472  \t0.0472844\t0.126067 \n",
      "43 \t9     \t0.120792 \t0.0196456  \t0.0472844\t0.126066 \n",
      "44 \t6     \t0.120789 \t0.0196448  \t0.0472844\t0.126046 \n",
      "45 \t10    \t0.108301 \t0.053286   \t0.0472807\t0.253706 \n",
      "46 \t6     \t0.0840379\t0.0392931  \t0.0472807\t0.12608  \n",
      "47 \t6     \t0.0597528\t0.0322509  \t0.0472767\t0.155597 \n",
      "48 \t13    \t0.142621 \t0.324692   \t0.0472767\t1.35408  \n",
      "49 \t9     \t0.0472786\t1.9829e-06 \t0.0472767\t0.0472807\n",
      "50 \t9     \t0.0819569\t0.09343    \t0.0472767\t0.395317 \n",
      "51 \t10    \t0.0759171\t0.094938   \t0.0472767\t0.428245 \n",
      "52 \t8     \t0.0803745\t0.123841   \t0.0472767\t0.543743 \n",
      "53 \t7     \t0.060801 \t0.0391701  \t0.0472767\t0.199606 \n",
      "54 \t13    \t0.0579863\t0.0400718  \t0.0472767\t0.207921 \n",
      "55 \t12    \t0.0676353\t0.0571193  \t0.0466359\t0.26483  \n",
      "56 \t7     \t0.052544 \t0.0207386  \t0.0466343\t0.130132 \n",
      "57 \t8     \t0.0467637\t0.000256502\t0.0466343\t0.0472767\n",
      "58 \t14    \t0.0466775\t0.000159222\t0.0466343\t0.0472732\n",
      "59 \t10    \t0.295497 \t0.931159   \t0.0466342\t3.77958  \n",
      "60 \t11    \t0.0831947\t0.101233   \t0.046634 \t0.428999 \n",
      "61 \t11    \t0.0479881\t0.00506554 \t0.046634 \t0.0669416\n",
      "62 \t6     \t0.142664 \t0.35931    \t0.0466339\t1.48708  \n",
      "63 \t10    \t0.0786582\t0.1169     \t0.0466339\t0.515938 \n",
      "64 \t8     \t0.055316 \t0.0324852  \t0.0466339\t0.176864 \n",
      "65 \t13    \t0.0566824\t0.037598   \t0.0466339\t0.197361 \n",
      "66 \t12    \t0.0466339\t6.93889e-18\t0.0466339\t0.0466339\n",
      "67 \t6     \t0.0466339\t1.10116e-08\t0.0466339\t0.0466339\n",
      "68 \t5     \t0.0466339\t1.76579e-08\t0.0466339\t0.0466339\n",
      "69 \t12    \t0.0466339\t2.68053e-08\t0.0466338\t0.0466339\n",
      "70 \t6     \t0.0466339\t2.36811e-08\t0.0466338\t0.0466339\n",
      "71 \t12    \t0.0466339\t3.41421e-08\t0.0466338\t0.0466339\n",
      "72 \t10    \t0.0522679\t0.0210806  \t0.0466338\t0.131144 \n",
      "73 \t10    \t0.0466338\t1.61832e-09\t0.0466338\t0.0466339\n",
      "74 \t6     \t0.0466338\t1.38778e-17\t0.0466338\t0.0466338\n",
      "75 \t11    \t0.0466338\t1.38778e-17\t0.0466338\t0.0466338\n",
      "76 \t7     \t0.0491431\t0.00531111 \t0.0466338\t0.0636467\n",
      "77 \t8     \t0.0499942\t0.0107243  \t0.0466338\t0.0895029\n",
      "78 \t9     \t0.0495199\t0.0113592  \t0.0445799\t0.0919791\n",
      "79 \t11    \t0.0532965\t0.0254831  \t0.0445793\t0.148626 \n",
      "80 \t10    \t0.0583504\t0.0465945  \t0.0445793\t0.232655 \n",
      "81 \t7     \t0.0483481\t0.00922155 \t0.0445793\t0.0810775\n",
      "82 \t8     \t0.0445793\t1.38778e-17\t0.0445793\t0.0445793\n",
      "83 \t10    \t0.0446201\t0.0001535  \t0.0445768\t0.0451944\n",
      "84 \t10    \t0.145247 \t0.268585   \t0.0445766\t1.01637  \n",
      "85 \t8     \t0.0445784\t1.17313e-06\t0.0445766\t0.0445793\n",
      "86 \t12    \t0.0445774\t1.11347e-06\t0.0445766\t0.0445793\n",
      "87 \t5     \t0.0639932\t0.0672595  \t0.0445766\t0.315307 \n",
      "88 \t13    \t0.0456586\t0.00404095 \t0.0445766\t0.0607785\n",
      "89 \t7     \t0.0445772\t1.99703e-06\t0.0445766\t0.0445846\n",
      "90 \t10    \t0.0445766\t2.97511e-07\t0.0445757\t0.0445773\n",
      "91 \t7     \t0.0484841\t0.0146217  \t0.0445757\t0.103194 \n",
      "92 \t8     \t0.0445758\t1.34611e-06\t0.044571 \t0.0445766\n",
      "93 \t8     \t0.0483769\t0.014222   \t0.0445757\t0.101591 \n",
      "94 \t12    \t0.0445757\t3.71954e-09\t0.0445757\t0.0445757\n",
      "95 \t6     \t0.0445757\t1.04207e-07\t0.0445757\t0.0445761\n",
      "96 \t9     \t0.0445757\t6.93889e-18\t0.0445757\t0.0445757\n",
      "97 \t9     \t0.0488207\t0.0158832  \t0.0445755\t0.10825  \n",
      "98 \t10    \t0.0445758\t3.45731e-07\t0.0445755\t0.044577 \n",
      "99 \t9     \t0.0445754\t6.94222e-07\t0.0445728\t0.0445757\n",
      "100\t13    \t0.0445752\t9.25425e-07\t0.0445728\t0.0445757\n"
     ]
    },
    {
     "name": "stderr",
     "output_type": "stream",
     "text": [
      "Process ForkPoolWorker-3:\n",
      "Process ForkPoolWorker-4:\n",
      "Traceback (most recent call last):\n",
      "Traceback (most recent call last):\n",
      "  File \"/home/nbuser/anaconda3_501/lib/python3.6/multiprocessing/process.py\", line 258, in _bootstrap\n",
      "    self.run()\n",
      "  File \"/home/nbuser/anaconda3_501/lib/python3.6/multiprocessing/process.py\", line 93, in run\n",
      "    self._target(*self._args, **self._kwargs)\n",
      "  File \"/home/nbuser/anaconda3_501/lib/python3.6/multiprocessing/process.py\", line 258, in _bootstrap\n",
      "    self.run()\n",
      "  File \"/home/nbuser/anaconda3_501/lib/python3.6/multiprocessing/process.py\", line 93, in run\n",
      "    self._target(*self._args, **self._kwargs)\n",
      "  File \"/home/nbuser/anaconda3_501/lib/python3.6/multiprocessing/pool.py\", line 108, in worker\n",
      "    task = get()\n",
      "  File \"/home/nbuser/anaconda3_501/lib/python3.6/multiprocessing/queues.py\", line 335, in get\n",
      "    res = self._reader.recv_bytes()\n",
      "  File \"/home/nbuser/anaconda3_501/lib/python3.6/multiprocessing/pool.py\", line 108, in worker\n",
      "    task = get()\n",
      "  File \"/home/nbuser/anaconda3_501/lib/python3.6/multiprocessing/queues.py\", line 334, in get\n",
      "    with self._rlock:\n",
      "  File \"/home/nbuser/anaconda3_501/lib/python3.6/multiprocessing/connection.py\", line 216, in recv_bytes\n",
      "    buf = self._recv_bytes(maxlength)\n",
      "  File \"/home/nbuser/anaconda3_501/lib/python3.6/multiprocessing/synchronize.py\", line 96, in __enter__\n",
      "    return self._semlock.__enter__()\n",
      "  File \"/home/nbuser/anaconda3_501/lib/python3.6/multiprocessing/connection.py\", line 407, in _recv_bytes\n",
      "    buf = self._recv(4)\n",
      "KeyboardInterrupt\n",
      "  File \"/home/nbuser/anaconda3_501/lib/python3.6/multiprocessing/connection.py\", line 379, in _recv\n",
      "    chunk = read(handle, remaining)\n",
      "KeyboardInterrupt\n"
     ]
    }
   ],
   "source": [
    "import multiprocessing\n",
    "\n",
    "import array\n",
    "import random\n",
    "\n",
    "import numpy\n",
    "\n",
    "from deap import algorithms\n",
    "from deap import base\n",
    "from deap import creator\n",
    "from deap import tools\n",
    "\n",
    "creator.create(\"FitnessMin\", base.Fitness, weights=(-1.0,))\n",
    "creator.create(\"Individual\", array.array, typecode='d', fitness=creator.FitnessMin)\n",
    "\n",
    "toolbox = base.Toolbox()\n",
    "\n",
    "pool = multiprocessing.Pool()\n",
    "toolbox.register(\"map\", pool.map)\n",
    "\n",
    "toolbox.register(\"attr_float\", random.uniform, 1e6, 1e8)\n",
    "\n",
    "# Structure initializers\n",
    "toolbox.register(\"individual\", tools.initRepeat, creator.Individual, toolbox.attr_float, 5)\n",
    "toolbox.register(\"population\", tools.initRepeat, list, toolbox.individual)\n",
    "\n",
    "def evalOneMax(individual):\n",
    "    return get_fitness_wrapper(individual),\n",
    "\n",
    "toolbox.register(\"evaluate\", evalOneMax)\n",
    "toolbox.register(\"mate\", tools.cxTwoPoint)\n",
    "toolbox.register(\"mutate\", tools.mutGaussian, mu=0, sigma=1e6, indpb=0.1)\n",
    "toolbox.register(\"select\", tools.selTournament, tournsize=3)\n",
    "    \n",
    "pop = toolbox.population(n=15)\n",
    "hof = tools.HallOfFame(1)\n",
    "stats = tools.Statistics(lambda ind: ind.fitness.values)\n",
    "stats.register(\"avg\", numpy.mean)\n",
    "stats.register(\"std\", numpy.std)\n",
    "stats.register(\"min\", numpy.min)\n",
    "stats.register(\"max\", numpy.max)\n",
    "\n",
    "pop, log = algorithms.eaSimple(pop, toolbox, cxpb=0.5, mutpb=0.3, ngen=100, \n",
    "                               stats=stats, halloffame=hof, verbose=False)\n",
    "\n",
    "print(log)"
   ]
  },
  {
   "cell_type": "code",
   "execution_count": 18,
   "metadata": {
    "scrolled": false
   },
   "outputs": [
    {
     "name": "stderr",
     "output_type": "stream",
     "text": [
      "/home/nbuser/anaconda3_501/lib/python3.6/site-packages/deap/tools/_hypervolume/pyhv.py:33: ImportWarning: Falling back to the python version of hypervolume module. Expect this to be very slow.\n",
      "  \"module. Expect this to be very slow.\", ImportWarning)\n"
     ]
    },
    {
     "name": "stdout",
     "output_type": "stream",
     "text": [
      "gen\tnevals\tavg      \tstd       \tmin      \tmax      \n",
      "0  \t15    \t0.434249 \t0.03494   \t0.371606 \t0.519972 \n",
      "1  \t7     \t0.410397 \t0.0285824 \t0.371606 \t0.459556 \n",
      "2  \t10    \t0.385787 \t0.0137199 \t0.367699 \t0.405667 \n",
      "3  \t10    \t0.376268 \t0.0196575 \t0.324349 \t0.404183 \n",
      "4  \t10    \t0.368458 \t0.0162866 \t0.326163 \t0.404248 \n",
      "5  \t10    \t0.353092 \t0.0235832 \t0.315531 \t0.397781 \n",
      "6  \t8     \t0.339848 \t0.0315853 \t0.292618 \t0.420199 \n",
      "7  \t8     \t0.319381 \t0.019107  \t0.292618 \t0.358691 \n",
      "8  \t11    \t0.311231 \t0.026969  \t0.2723   \t0.373524 \n",
      "9  \t9     \t0.293624 \t0.0200815 \t0.270765 \t0.3326   \n",
      "10 \t11    \t0.286087 \t0.0190502 \t0.270569 \t0.324779 \n",
      "11 \t8     \t0.270778 \t0.0112123 \t0.237841 \t0.292056 \n",
      "12 \t9     \t0.276463 \t0.0318293 \t0.235725 \t0.352789 \n",
      "13 \t11    \t0.260014 \t0.029575  \t0.201898 \t0.331326 \n",
      "14 \t13    \t0.24882  \t0.0266176 \t0.193713 \t0.292529 \n",
      "15 \t4     \t0.227902 \t0.0281947 \t0.179113 \t0.300034 \n",
      "16 \t12    \t0.215613 \t0.0255731 \t0.179113 \t0.281924 \n",
      "17 \t7     \t0.210633 \t0.0340303 \t0.179113 \t0.301694 \n",
      "18 \t11    \t0.198222 \t0.0233695 \t0.172371 \t0.258291 \n",
      "19 \t9     \t0.194721 \t0.03285   \t0.172371 \t0.297168 \n",
      "20 \t6     \t0.184843 \t0.0178621 \t0.172371 \t0.235706 \n",
      "21 \t11    \t0.179802 \t0.0136864 \t0.155548 \t0.217109 \n",
      "22 \t8     \t0.177799 \t0.0125739 \t0.154752 \t0.212248 \n",
      "23 \t14    \t0.181785 \t0.0233281 \t0.141646 \t0.238847 \n",
      "24 \t6     \t0.165969 \t0.0167368 \t0.129856 \t0.201144 \n",
      "25 \t10    \t0.176243 \t0.035655  \t0.129856 \t0.263029 \n",
      "26 \t10    \t0.160065 \t0.0355632 \t0.107672 \t0.240785 \n",
      "27 \t9     \t0.141006 \t0.0369887 \t0.107672 \t0.232017 \n",
      "28 \t12    \t0.123135 \t0.0243051 \t0.0849414\t0.177502 \n",
      "29 \t10    \t0.107098 \t0.0217545 \t0.0614124\t0.146134 \n",
      "30 \t12    \t0.112201 \t0.0339031 \t0.0614124\t0.18321  \n",
      "31 \t6     \t0.0964022\t0.0293433 \t0.0614124\t0.163909 \n",
      "32 \t8     \t0.0868519\t0.0195073 \t0.0612803\t0.131305 \n",
      "33 \t8     \t0.0680788\t0.00931475\t0.0612803\t0.0886176\n",
      "34 \t11    \t0.0859843\t0.0350084 \t0.0612803\t0.187997 \n",
      "35 \t10    \t0.0882058\t0.0341942 \t0.0612803\t0.168151 \n",
      "36 \t10    \t0.0738761\t0.0199439 \t0.0612803\t0.118785 \n",
      "37 \t13    \t0.0842039\t0.0298682 \t0.0579721\t0.146479 \n",
      "38 \t10    \t0.0906702\t0.0444873 \t0.059598 \t0.175742 \n",
      "39 \t10    \t0.0822082\t0.0343529 \t0.059598 \t0.165308 \n",
      "40 \t8     \t0.0793213\t0.0373144 \t0.059598 \t0.177556 \n",
      "41 \t7     \t0.0743712\t0.0310636 \t0.0595774\t0.17741  \n",
      "42 \t11    \t0.0820704\t0.0317413 \t0.0540859\t0.16032  \n",
      "43 \t12    \t0.0757499\t0.0286613 \t0.0421638\t0.132346 \n",
      "44 \t11    \t0.0701215\t0.0345507 \t0.0403147\t0.175324 \n",
      "45 \t9     \t0.0529055\t0.013693  \t0.0402957\t0.0961248\n",
      "46 \t9     \t0.0528242\t0.0202958 \t0.0402698\t0.121764 \n",
      "47 \t9     \t0.0546638\t0.0205484 \t0.0402405\t0.0958544\n",
      "48 \t10    \t0.0478353\t0.0248466 \t0.0402405\t0.140218 \n",
      "49 \t8     \t0.0476266\t0.0161297 \t0.0402405\t0.0912155\n",
      "50 \t5     \t0.0601382\t0.03304   \t0.0402405\t0.147043 \n",
      "51 \t8     \t0.0644245\t0.0342899 \t0.0402405\t0.144413 \n",
      "52 \t6     \t0.0537008\t0.0235687 \t0.0402405\t0.12398  \n",
      "53 \t10    \t0.0700249\t0.0367901 \t0.0402405\t0.14065  \n",
      "54 \t11    \t0.061159 \t0.0233985 \t0.0343008\t0.109214 \n",
      "55 \t4     \t0.0470659\t0.0183978 \t0.0343008\t0.103608 \n",
      "56 \t9     \t0.0517062\t0.0288922 \t0.0342976\t0.134606 \n",
      "57 \t13    \t0.0873132\t0.0476155 \t0.0342976\t0.184497 \n",
      "58 \t9     \t0.0650656\t0.0293425 \t0.0306166\t0.106638 \n",
      "59 \t10    \t0.0577233\t0.0364966 \t0.0306166\t0.13957  \n",
      "60 \t14    \t0.0564792\t0.0230828 \t0.0306166\t0.0999479\n",
      "61 \t7     \t0.0445583\t0.0229175 \t0.0306166\t0.114404 \n",
      "62 \t12    \t0.0416637\t0.0142777 \t0.0272883\t0.0773235\n",
      "63 \t8     \t0.0444826\t0.0311873 \t0.0272883\t0.141599 \n",
      "64 \t8     \t0.0339553\t0.0187107 \t0.0272883\t0.103687 \n",
      "65 \t9     \t0.0359447\t0.0183478 \t0.0245207\t0.083908 \n",
      "66 \t10    \t0.039861 \t0.0252017 \t0.0245207\t0.123427 \n",
      "67 \t9     \t0.0445301\t0.0202833 \t0.0245207\t0.0807897\n",
      "68 \t9     \t0.044365 \t0.0359034 \t0.0245128\t0.120777 \n",
      "69 \t8     \t0.034053 \t0.0144099 \t0.0244955\t0.0680687\n",
      "70 \t10    \t0.0445774\t0.0264981 \t0.0244872\t0.0938953\n",
      "71 \t9     \t0.0367013\t0.0300325 \t0.0212184\t0.13953  \n",
      "72 \t10    \t0.0437645\t0.0351963 \t0.0213477\t0.146966 \n",
      "73 \t7     \t0.0352109\t0.0159086 \t0.0213477\t0.0787984\n",
      "74 \t8     \t0.032131 \t0.0187056 \t0.0213477\t0.0962571\n",
      "75 \t9     \t0.033478 \t0.0257992 \t0.0213477\t0.124038 \n",
      "76 \t8     \t0.0387988\t0.0334707 \t0.0213301\t0.14773  \n",
      "77 \t9     \t0.0343973\t0.0248607 \t0.0213301\t0.116415 \n",
      "78 \t9     \t0.0382501\t0.0319811 \t0.0196336\t0.131642 \n",
      "79 \t8     \t0.0407598\t0.0255989 \t0.0196336\t0.0948534\n",
      "80 \t7     \t0.0268188\t0.0133671 \t0.019202 \t0.0701074\n",
      "81 \t9     \t0.0279806\t0.0142144 \t0.019202 \t0.0587373\n",
      "82 \t10    \t0.0497622\t0.0443455 \t0.019202 \t0.143975 \n",
      "83 \t11    \t0.0441815\t0.0282224 \t0.019202 \t0.0989451\n",
      "84 \t7     \t0.0448637\t0.0344898 \t0.019202 \t0.135099 \n",
      "85 \t12    \t0.0244159\t0.0120618 \t0.019202 \t0.0662337\n",
      "86 \t10    \t0.0277245\t0.013811  \t0.0196336\t0.0656347\n",
      "87 \t4     \t0.0246438\t0.0128142 \t0.0196336\t0.0600003\n",
      "88 \t13    \t0.0472389\t0.0363048 \t0.0196336\t0.120307 \n",
      "89 \t11    \t0.0303755\t0.0263965 \t0.0182041\t0.115208 \n",
      "90 \t9     \t0.0311246\t0.0241977 \t0.0182041\t0.0875744\n",
      "91 \t8     \t0.0326972\t0.0233144 \t0.0182041\t0.0809681\n",
      "92 \t6     \t0.0314626\t0.0336587 \t0.0182041\t0.142394 \n",
      "93 \t11    \t0.0489107\t0.0302464 \t0.0182041\t0.10668  \n",
      "94 \t10    \t0.0585853\t0.0484624 \t0.0179414\t0.164962 \n",
      "95 \t9     \t0.0331038\t0.0309887 \t0.0179414\t0.118503 \n",
      "96 \t11    \t0.0312402\t0.0236164 \t0.0179414\t0.0846848\n",
      "97 \t14    \t0.0288373\t0.0237601 \t0.0179414\t0.102409 \n",
      "98 \t4     \t0.0254276\t0.0238336 \t0.0179414\t0.11375  \n",
      "99 \t9     \t0.0217972\t0.0144271 \t0.0179414\t0.0757784\n",
      "100\t10    \t0.0393317\t0.0354237 \t0.0179414\t0.136476 \n"
     ]
    }
   ],
   "source": [
    "import array\n",
    "import random\n",
    "\n",
    "import numpy\n",
    "\n",
    "from deap import algorithms\n",
    "from deap import base\n",
    "from deap import creator\n",
    "from deap import tools\n",
    "\n",
    "creator.create(\"FitnessMin\", base.Fitness, weights=(-1.0,))\n",
    "creator.create(\"Individual\", array.array, typecode='b', fitness=creator.FitnessMin)\n",
    "\n",
    "toolbox = base.Toolbox()\n",
    "\n",
    "toolbox.register(\"attr_bool\", random.randint, 0, 1)\n",
    "\n",
    "# Structure initializers\n",
    "toolbox.register(\"individual\", tools.initRepeat, creator.Individual, toolbox.attr_bool, 1000)\n",
    "toolbox.register(\"population\", tools.initRepeat, list, toolbox.individual)\n",
    "\n",
    "def evalOneMax(individual):\n",
    "    return get_fitness_wrapper_binary(individual),\n",
    "\n",
    "toolbox.register(\"evaluate\", evalOneMax)\n",
    "toolbox.register(\"mate\", tools.cxTwoPoint)\n",
    "toolbox.register(\"mutate\", tools.mutFlipBit, indpb=0.05)\n",
    "toolbox.register(\"select\", tools.selTournament, tournsize=3)\n",
    "    \n",
    "pop = toolbox.population(n=15)\n",
    "hof = tools.HallOfFame(1)\n",
    "stats = tools.Statistics(lambda ind: ind.fitness.values)\n",
    "stats.register(\"avg\", numpy.mean)\n",
    "stats.register(\"std\", numpy.std)\n",
    "stats.register(\"min\", numpy.min)\n",
    "stats.register(\"max\", numpy.max)\n",
    "\n",
    "pop, log = algorithms.eaSimple(pop, toolbox, cxpb=0.5, mutpb=0.3, ngen=100, \n",
    "                               stats=stats, halloffame=hof, verbose=False)\n",
    "\n",
    "print(log)"
   ]
  },
  {
   "cell_type": "markdown",
   "metadata": {},
   "source": [
    "### PyGMO"
   ]
  },
  {
   "cell_type": "code",
   "execution_count": null,
   "metadata": {},
   "outputs": [],
   "source": [
    "!pip install pygmo"
   ]
  },
  {
   "cell_type": "code",
   "execution_count": 65,
   "metadata": {},
   "outputs": [],
   "source": [
    "import pygmo as pg\n",
    "\n",
    "class beam_function:\n",
    "    def __init__(self, dim):\n",
    "        self.dim = dim\n",
    "    \n",
    "    def fitness(self, x):\n",
    "        return [get_fitness_wrapper(x)]\n",
    "    \n",
    "    def get_bounds(self):\n",
    "        return ([1e6] * self.dim, [1e8] * self.dim)\n",
    "    \n",
    "    def get_name(self):\n",
    "        return \"Beam Function\"\n",
    "    \n",
    "    def get_extra_info(self):\n",
    "        return \"\\tDimensions: \" + str(self.dim)\n",
    "    \n",
    "class beam_function_binary:\n",
    "    def __init__(self, dim):\n",
    "        self.dim = dim\n",
    "    \n",
    "    def fitness(self, x):\n",
    "        return [get_fitness_wrapper_binary(x)]\n",
    "    \n",
    "    def get_bounds(self):\n",
    "        return ([0] * self.dim, [1] * self.dim)\n",
    "    \n",
    "    def get_name(self):\n",
    "        return \"Beam Function\"\n",
    "    \n",
    "    def get_extra_info(self):\n",
    "        return \"\\tDimensions: \" + str(self.dim)\n",
    "    \n",
    "    def get_nix(self):\n",
    "        return 3"
   ]
  },
  {
   "cell_type": "code",
   "execution_count": 67,
   "metadata": {},
   "outputs": [
    {
     "name": "stdout",
     "output_type": "stream",
     "text": [
      "[1.19E+06 2.46E+06 1.72E+07 1.72E+07 9.78E+07] [1.15E-02]\n"
     ]
    }
   ],
   "source": [
    "prob = pg.problem(beam_function(5))\n",
    "\n",
    "algo = pg.algorithm(pg.sga(gen = 100))\n",
    "pop = pg.population(prob,15)\n",
    "pop = algo.evolve(pop)\n",
    "print(pop.champion_x, pop.champion_f) "
   ]
  },
  {
   "cell_type": "code",
   "execution_count": null,
   "metadata": {},
   "outputs": [],
   "source": [
    "# Not working yet\n",
    "prob = pg.problem(beam_function_binary(3))\n",
    "\n",
    "algo = pg.algorithm(pg.sga(gen = 20))\n",
    "pop = pg.population(prob,10)\n",
    "pop = algo.evolve(pop)\n",
    "print(pop.champion_x, pop.champion_f, prob.get_fevals()) "
   ]
  },
  {
   "cell_type": "code",
   "execution_count": 72,
   "metadata": {},
   "outputs": [
    {
     "name": "stdout",
     "output_type": "stream",
     "text": [
      "[1.17E+06 3.62E+07 7.97E+07 8.32E+07 4.10E+07] [1.06E-01]\n"
     ]
    }
   ],
   "source": [
    "# Not sure about number of function evaluations\n",
    "prob = pg.problem(beam_function(5))\n",
    "\n",
    "algo = pg.algorithm(pg.simulated_annealing())\n",
    "pop = pg.population(prob,15)\n",
    "pop = algo.evolve(pop)\n",
    "print(pop.champion_x, pop.champion_f) "
   ]
  },
  {
   "cell_type": "code",
   "execution_count": 68,
   "metadata": {},
   "outputs": [
    {
     "name": "stdout",
     "output_type": "stream",
     "text": [
      "[1.01E+06 6.22E+07 2.84E+06 2.33E+07 5.81E+07] [2.04E-03]\n"
     ]
    }
   ],
   "source": [
    "prob = pg.problem(beam_function(5))\n",
    "\n",
    "algo = pg.algorithm(pg.de(gen = 100))\n",
    "pop = pg.population(prob,15)\n",
    "pop = algo.evolve(pop)\n",
    "print(pop.champion_x, pop.champion_f) "
   ]
  },
  {
   "cell_type": "code",
   "execution_count": 74,
   "metadata": {},
   "outputs": [
    {
     "name": "stdout",
     "output_type": "stream",
     "text": [
      "[1.00E+06 9.95E+07 3.24E+06 3.09E+07 9.63E+06] [2.59E-03]\n"
     ]
    }
   ],
   "source": [
    "prob = pg.problem(beam_function(5))\n",
    "\n",
    "algo = pg.algorithm(pg.pso(gen = 100))\n",
    "pop = pg.population(prob,15)\n",
    "pop = algo.evolve(pop)\n",
    "print(pop.champion_x, pop.champion_f) "
   ]
  },
  {
   "cell_type": "code",
   "execution_count": null,
   "metadata": {},
   "outputs": [],
   "source": []
  }
 ],
 "metadata": {
  "kernelspec": {
   "display_name": "Python 3.6",
   "language": "python",
   "name": "python36"
  },
  "language_info": {
   "codemirror_mode": {
    "name": "ipython",
    "version": 3
   },
   "file_extension": ".py",
   "mimetype": "text/x-python",
   "name": "python",
   "nbconvert_exporter": "python",
   "pygments_lexer": "ipython3",
   "version": "3.6.3"
  }
 },
 "nbformat": 4,
 "nbformat_minor": 2
}
